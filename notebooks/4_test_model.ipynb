{
 "cells": [
  {
   "cell_type": "markdown",
   "id": "acdcf9ce",
   "metadata": {},
   "source": [
    "# 📊 Notebook 4: Test-Harness for Your Best Model\n",
    "\n",
    "This notebook loads your final model artifact, grabs one sample from your held-out test set, and lets you play with its feature values to see how the predicted probability (and class) changes"
   ]
  },
  {
   "cell_type": "code",
   "execution_count": null,
   "id": "ccb61797",
   "metadata": {
    "tags": [
     "parameters"
    ]
   },
   "outputs": [],
   "source": [
    "# Parameters for Papermill\n",
    "DATA_PROCESSED = \"data/processed\"    # where 3_modeling saved historical_proc.csv\n",
    "MODEL_DIR      = \"src/models\"        # where 3_modeling saved final_<best>.pkl\n",
    "SAMPLE_INDEX   = 0                   # which test-set row to grab by default"
   ]
  },
  {
   "cell_type": "code",
   "execution_count": null,
   "id": "6b5f06ff",
   "metadata": {},
   "outputs": [],
   "source": [
    "import os, joblib\n",
    "import pandas as pd\n",
    "\n",
    "# 1a) Load processed features\n",
    "df = pd.read_csv(\n",
    "    os.path.join(DATA_PROCESSED, \"historical_proc.csv\"),\n",
    "    parse_dates=[\"date\"]\n",
    ")\n",
    "\n",
    "# 1b) Re-create train/test split (75/25 as in notebook 3)\n",
    "split = int(len(df)*0.75)\n",
    "test_df = df.iloc[split:].reset_index(drop=True)\n",
    "\n",
    "# 1c) Load best model\n",
    "model_files = os.listdir(MODEL_DIR)\n",
    "# you should have exactly one final_*.pkl\n",
    "model_path = os.path.join(MODEL_DIR, [f for f in model_files if f.startswith(\"final_\")][0])\n",
    "best_model = joblib.load(model_path)\n",
    "\n",
    "# 1d) Grab one sample as DataFrame\n",
    "sample = test_df.drop(columns=[\"date\",\"close_next\",\"high_next\",\"low_next\",\"target_up\",\"target_high\",\"target_low\"])\n",
    "sample_df = sample.iloc[[SAMPLE_INDEX]].copy()\n",
    "print(\"Template sample (first few cols):\")\n",
    "display(sample_df.iloc[:,:5])"
   ]
  },
  {
   "cell_type": "markdown",
   "id": "da81efdd",
   "metadata": {},
   "source": [
    "### Optional testing features"
   ]
  },
  {
   "cell_type": "markdown",
   "id": "b7202e92",
   "metadata": {},
   "source": [
    "# ▶ UNCOMMENT any line below to test “what-if” scenarios\n",
    "# e.g. simulate a huge spike in standardized price:\n",
    "# sample_df[\"price_std\"] = 1.5\n",
    "# sample_df[\"PC1\"]        =  0.0\n",
    "# sample_df[\"percent_change_24h_mm\"] = 0.75"
   ]
  },
  {
   "cell_type": "markdown",
   "id": "8c18c55a",
   "metadata": {},
   "source": [
    "### Scoring the modified sample"
   ]
  },
  {
   "cell_type": "code",
   "execution_count": null,
   "id": "e5046c00",
   "metadata": {},
   "outputs": [],
   "source": [
    "proba = best_model.predict_proba(sample_df)[0,1]\n",
    "cls   = best_model.predict(sample_df)[0]\n",
    "\n",
    "print(f\"→ Predicted probability of up-day: {proba:.3f}\")\n",
    "print(f\"→ Predicted class (0=down,1=up): {cls}\")\n"
   ]
  }
 ],
 "metadata": {
  "kernelspec": {
   "display_name": ".venv",
   "language": "python",
   "name": "python3"
  },
  "language_info": {
   "name": "python",
   "version": "3.13.1"
  }
 },
 "nbformat": 4,
 "nbformat_minor": 5
}
