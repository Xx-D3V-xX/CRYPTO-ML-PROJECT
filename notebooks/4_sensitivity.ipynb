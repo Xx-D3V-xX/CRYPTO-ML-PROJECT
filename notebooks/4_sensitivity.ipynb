{
 "cells": [
  {
   "cell_type": "markdown",
   "id": "acdcf9ce",
   "metadata": {},
   "source": [
    "# Notebook 4: Test-Harness for Your Best Model\n",
    "\n",
    "This notebook loads your final model artifact, grabs one sample from your held-out test set, and lets you play with its feature values to see how the predicted probability (and class) changes"
   ]
  },
  {
   "cell_type": "code",
   "execution_count": null,
   "id": "ccb61797",
   "metadata": {
    "tags": [
     "parameters"
    ]
   },
   "outputs": [],
   "source": [
    "# Parameters for Papermill\n",
    "DATA_PROCESSED = \"data/processed\"    # where 3_modeling saved historical_proc.csv\n",
    "MODEL_DIR      = \"src/models\"        # where 3_modeling saved final_<best>.pkl\n",
    "SAMPLE_INDEX   = 0                   # which test-set row to grab by default"
   ]
  },
  {
   "cell_type": "code",
   "execution_count": null,
   "id": "6b5f06ff",
   "metadata": {},
   "outputs": [],
   "source": [
    "# Cell 3 – Load model, features & build a “sample” input\n",
    "\n",
    "import os, joblib, pandas as pd\n",
    "\n",
    "# 1) Read in the full processed DataFrame (same split logic as Notebook 3)\n",
    "df = pd.read_csv(os.path.join(DATA_PROCESSED, \"historical_proc.csv\"), parse_dates=[\"date\"])\n",
    "df.sort_values(\"date\", inplace=True)\n",
    "split = int(len(df) * 0.75)\n",
    "test_df = df.iloc[split:].copy()\n",
    "\n",
    "# 2) Load the trained model\n",
    "model_path = os.path.join(MODEL_DIR, \"final_best_model.pkl\")  # adjust filename if different\n",
    "best_model = joblib.load(model_path)\n",
    "\n",
    "# 3) Drop only the columns that actually exist\n",
    "to_drop = [\"date\",\"close_next\",\"high_next\",\"low_next\",\"target_up\",\"target_high\",\"target_low\"]\n",
    "drop_cols = [c for c in to_drop if c in test_df.columns]\n",
    "sample_df = test_df.drop(columns=drop_cols)\n",
    "\n",
    "# 4) Pick one sample row to sweep / inspect\n",
    "SAMPLE_INDEX = 0  # e.g. first row of test set\n",
    "input_sample = sample_df.iloc[[SAMPLE_INDEX]].reset_index(drop=True)\n",
    "\n",
    "print(\"▶ Using one test sample (first row) with features:\")\n",
    "display(input_sample.head())"
   ]
  },
  {
   "cell_type": "markdown",
   "id": "da81efdd",
   "metadata": {},
   "source": [
    "### Optional testing features"
   ]
  },
  {
   "cell_type": "markdown",
   "id": "b7202e92",
   "metadata": {},
   "source": [
    "# ▶ UNCOMMENT any line below to test “what-if” scenarios\n",
    "# e.g. simulate a huge spike in standardized price:\n",
    "# sample_df[\"price_std\"] = 1.5\n",
    "# sample_df[\"PC1\"]        =  0.0\n",
    "# sample_df[\"percent_change_24h_mm\"] = 0.75"
   ]
  },
  {
   "cell_type": "markdown",
   "id": "8c18c55a",
   "metadata": {},
   "source": [
    "### Scoring the modified sample"
   ]
  },
  {
   "cell_type": "code",
   "execution_count": null,
   "id": "e5046c00",
   "metadata": {},
   "outputs": [],
   "source": [
    "proba = best_model.predict_proba(sample_df)[0,1]\n",
    "cls   = best_model.predict(sample_df)[0]\n",
    "\n",
    "print(f\"→ Predicted probability of up-day: {proba:.3f}\")\n",
    "print(f\"→ Predicted class (0=down,1=up): {cls}\")\n"
   ]
  }
 ],
 "metadata": {
  "kernelspec": {
   "display_name": ".venv",
   "language": "python",
   "name": "python3"
  },
  "language_info": {
   "name": "python",
   "version": "3.13.1"
  }
 },
 "nbformat": 4,
 "nbformat_minor": 5
}
