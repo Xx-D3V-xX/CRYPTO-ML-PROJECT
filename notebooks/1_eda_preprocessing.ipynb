{
 "cells": [
  {
   "cell_type": "markdown",
   "id": "691daccf-0e4f-4be4-b1f4-1e1e02e292d6",
   "metadata": {
    "editable": true,
    "slideshow": {
     "slide_type": ""
    },
    "tags": []
   },
   "source": [
    "# Phase 1: Exploratory Data Analysis & Preprocessing\n",
    "In this notebook we will:\n",
    "1. Load the raw CSVs.  \n",
    "2. Inspect schema and summary statistics.  \n",
    "3. Visualize missing values.  \n",
    "4. Explore distributions & outliers (boxplots, histograms, KDEs).  \n",
    "5. Generate correlation heatmap.  \n",
    "6. Plot time-series trends (price, market cap, sentiment).  \n",
    "7. Save cleaned/interim datasets for Phase 2."
   ]
  },
  {
   "cell_type": "markdown",
   "id": "85e869cd",
   "metadata": {},
   "source": [
    "### 1. Setup file paths\n",
    "Define the base directories for raw input data (`DATA_RAW`) and cleaned interim output (`DATA_INTERIM`), so every file‐IO call uses these constants."
   ]
  },
  {
   "cell_type": "code",
   "execution_count": null,
   "id": "90686230",
   "metadata": {
    "editable": true,
    "slideshow": {
     "slide_type": ""
    },
    "tags": [
     "parameters"
    ]
   },
   "outputs": [],
   "source": [
    "# Parameters cell for Papermill\n",
    "DATA_RAW     = \"data/raw\"\n",
    "DATA_INTERIM = \"data/interim\""
   ]
  },
  {
   "cell_type": "markdown",
   "id": "8ab9bd9e",
   "metadata": {},
   "source": [
    "### 2. Imports & Plot Configuration\n",
    "Load standard data libs (`pandas`, `numpy`), visualization tools (`matplotlib`, `seaborn`, `missingno`), and set inline plotting style."
   ]
  },
  {
   "cell_type": "code",
   "execution_count": null,
   "id": "f5d65756-1d50-4601-a1d3-a03857eaa763",
   "metadata": {},
   "outputs": [],
   "source": [
    "import os\n",
    "import pandas as pd\n",
    "import numpy as np\n",
    "import matplotlib.pyplot as plt\n",
    "import seaborn as sns\n",
    "import missingno as msno\n",
    "\n",
    "%matplotlib inline\n",
    "sns.set_style(\"whitegrid\")\n",
    "plt.rcParams[\"figure.figsize\"] = (10,6)"
   ]
  },
  {
   "cell_type": "markdown",
   "id": "b461c64c",
   "metadata": {},
   "source": [
    "### 3. Load & Shape‐Check Raw CSVs\n",
    "Read each raw CSV into a DataFrame, print its name and shape for quick validation."
   ]
  },
  {
   "cell_type": "code",
   "execution_count": null,
   "id": "25861a19",
   "metadata": {},
   "outputs": [],
   "source": [
    "# 1) Load raw CSVs\n",
    "import pandas as pd\n",
    "\n",
    "coins      = pd.read_csv(f\"{DATA_RAW}/coins.csv\")\n",
    "historical = pd.read_csv(f\"{DATA_RAW}/historical.csv\")\n",
    "eth_df     = pd.read_csv(f\"{DATA_RAW}/eth_df.csv\")\n",
    "ada_df     = pd.read_csv(f\"{DATA_RAW}/ada_df.csv\")\n",
    "bnb_df     = pd.read_csv(f\"{DATA_RAW}/bnb_df.csv\")\n",
    "btc_df     = pd.read_csv(f\"{DATA_RAW}/btc_df.csv\")\n",
    "\n",
    "# Quick sanity check\n",
    "for name, df in [(\"coins\", coins), (\"historical\", historical),\n",
    "                 (\"ETH\", eth_df), (\"ADA\", ada_df),\n",
    "                 (\"BNB\", bnb_df), (\"BTC\", btc_df)]:\n",
    "    print(f\"{name}: {df.shape[0]} rows x {df.shape[1]} cols\")\n"
   ]
  },
  {
   "cell_type": "markdown",
   "id": "4cd3a44b-f7e3-4d9c-8aec-483c6a2eb73b",
   "metadata": {},
   "source": [
    "### 4. Show DataFrame info & head for each loaded dataset\n",
    "We iterate over the actual globals `coins`, `historical`, and each sentiment DataFrame (`eth_df`, `ada_df`, etc.), printing their `.info()` and first rows."
   ]
  },
  {
   "cell_type": "code",
   "execution_count": null,
   "id": "c9073096-abf9-4b07-ab26-5fed3de33aed",
   "metadata": {
    "scrolled": true
   },
   "outputs": [],
   "source": [
    "# 4) Display info() and head() for each DataFrame\n",
    "for name, df in [\n",
    "    (\"coins\",      coins),\n",
    "    (\"historical\", historical),\n",
    "    (\"ETH\",        eth_df),\n",
    "    (\"ADA\",        ada_df),\n",
    "    (\"BNB\",        bnb_df),\n",
    "    (\"BTC\",        btc_df)\n",
    "]:\n",
    "    print(f\"\\n### {name} INFO\")\n",
    "    display(df.info())\n",
    "    display(df.head())"
   ]
  },
  {
   "cell_type": "markdown",
   "id": "ffad0099-89a0-44b2-97dc-9c49bb1f459d",
   "metadata": {},
   "source": [
    "### 5. Statistical Summary\n",
    "Show descriptive statistics (mean, std, min/max, quartiles) for numeric columns in `historical`."
   ]
  },
  {
   "cell_type": "code",
   "execution_count": null,
   "id": "87fd2a4b-b918-4c92-8004-da30af27a351",
   "metadata": {
    "scrolled": true
   },
   "outputs": [],
   "source": [
    "print(\"### HISTORICAL DESCRIBE\")\n",
    "display(historical.describe().T)"
   ]
  },
  {
   "cell_type": "markdown",
   "id": "f1061ff1-12ae-439c-b049-53a30da9ec7b",
   "metadata": {},
   "source": [
    "### 6. Missingness Visualization\n",
    "Use `missingno` to plot:\n",
    "1. A matrix showing where data is missing in `historical`.\n",
    "2. A bar chart of missing counts in `coins`."
   ]
  },
  {
   "cell_type": "code",
   "execution_count": null,
   "id": "2a09062b-7776-46af-8bd7-6674785049f3",
   "metadata": {
    "scrolled": true
   },
   "outputs": [],
   "source": [
    "msno.matrix(historical)\n",
    "plt.title(\"historical.csv Missingness\")\n",
    "plt.show()\n",
    "\n",
    "msno.bar(coins)\n",
    "plt.title(\"coins.csv Missingness\")\n",
    "plt.show()"
   ]
  },
  {
   "cell_type": "markdown",
   "id": "ce57df02-61ad-4e28-93af-798902f9856b",
   "metadata": {},
   "source": [
    "### 7. Distribution & KDE Plots\n",
    "For each numeric column in `historical`:\n",
    "1. Drop NAs.\n",
    "2. Subsample to ≤100 000 points for performance.\n",
    "3. Plot a fixed‐bin histogram + KDE."
   ]
  },
  {
   "cell_type": "code",
   "execution_count": null,
   "id": "8622595f-bc81-4be6-9208-4fb2b501b2a0",
   "metadata": {
    "scrolled": true
   },
   "outputs": [],
   "source": [
    "num_cols = historical.select_dtypes(include=\"number\").columns\n",
    "for col in num_cols:\n",
    "    data = historical[col].dropna()\n",
    "    if len(data) > 100_000:\n",
    "        data = data.sample(100_000, random_state=42)\n",
    "    fig, (ax1, ax2) = plt.subplots(1,2,figsize=(12,4))\n",
    "    sns.histplot(data, bins=50, kde=True, ax=ax1).set_title(f\"{col} Distribution\")\n",
    "    sns.kdeplot(data, bw_adjust=1, ax=ax2).set_title(f\"{col} KDE\")\n",
    "    plt.tight_layout()\n",
    "    plt.show()"
   ]
  },
  {
   "cell_type": "markdown",
   "id": "d4d5c1cb-8beb-4f87-8bde-2a178dd8296d",
   "metadata": {},
   "source": [
    "### 8. Outlier Detection via Boxplots\n",
    "Draw a boxplot for each numeric column to visualize outliers."
   ]
  },
  {
   "cell_type": "code",
   "execution_count": null,
   "id": "2bd05a6e-391e-442e-b503-9556ca94ec00",
   "metadata": {
    "scrolled": true
   },
   "outputs": [],
   "source": [
    "for col in num_cols:\n",
    "    plt.figure(figsize=(6,2))\n",
    "    sns.boxplot(x=historical[col])\n",
    "    plt.title(f\"{col} Boxplot\")\n",
    "    plt.show()"
   ]
  },
  {
   "cell_type": "markdown",
   "id": "300502c5-bc9d-4403-b8af-d87f4e866022",
   "metadata": {},
   "source": [
    "### 9. Correlation Heatmap\n",
    "Compute Pearson correlations among numeric features in `historical` and plot a heatmap."
   ]
  },
  {
   "cell_type": "code",
   "execution_count": null,
   "id": "6fb31b67-a804-4ac1-8e21-befdc8c4e82c",
   "metadata": {},
   "outputs": [],
   "source": [
    "corr = historical[num_cols].corr()\n",
    "plt.figure(figsize=(10,8))\n",
    "sns.heatmap(corr, annot=True, fmt=\".2f\", cmap=\"coolwarm\")\n",
    "plt.title(\"historical.csv Correlation Matrix\")\n",
    "plt.show()"
   ]
  },
  {
   "cell_type": "markdown",
   "id": "e41239d6-3422-4976-b274-e86bfac73524",
   "metadata": {},
   "source": [
    "### 10. Time Series of Price & Market Cap\n",
    "Convert `date` to datetime, then plot `price` and `market_cap` over time in two stacked subplots."
   ]
  },
  {
   "cell_type": "code",
   "execution_count": null,
   "id": "ff6f838f-91a1-40ab-bb20-2688c688a237",
   "metadata": {
    "scrolled": true
   },
   "outputs": [],
   "source": [
    "historical['date'] = pd.to_datetime(historical['date'])\n",
    "fig, (ax1, ax2) = plt.subplots(2,1,figsize=(12,8), sharex=True)\n",
    "historical.set_index('date')['price'].plot(ax=ax1, title=\"Price over Time\")\n",
    "historical.set_index('date')['market_cap'].plot(ax=ax2, title=\"Market Cap over Time\")\n",
    "plt.tight_layout()\n",
    "plt.show()"
   ]
  },
  {
   "cell_type": "markdown",
   "id": "4aa8c154",
   "metadata": {},
   "source": [
    "### 11. Plot per‐coin sentiment time series\n",
    "\n",
    "For each of our sentiment DataFrames (`eth_df`, `ada_df`, `bnb_df`, `btc_df`), convert `date` to datetime, then plot count and normalized sentiment on two stacked axes."
   ]
  },
  {
   "cell_type": "code",
   "execution_count": null,
   "id": "2b38bb4f",
   "metadata": {},
   "outputs": [],
   "source": [
    "for name, df in [\n",
    "    (\"ETH\", eth_df),\n",
    "    (\"ADA\", ada_df),\n",
    "    (\"BNB\", bnb_df),\n",
    "    (\"BTC\", btc_df)\n",
    "]:\n",
    "    df = df.copy()\n",
    "    df['date'] = pd.to_datetime(df['date'])\n",
    "    fig, (ax1, ax2) = plt.subplots(2,1,figsize=(12,6), sharex=True)\n",
    "    df.set_index('date')['count']\\\n",
    "      .plot(ax=ax1, title=f\"{name} Sentiment Count\")\n",
    "    df.set_index('date')['normalized']\\\n",
    "      .plot(ax=ax2, title=f\"{name} Sentiment Normalized\")\n",
    "    plt.tight_layout()\n",
    "    plt.show()"
   ]
  },
  {
   "cell_type": "markdown",
   "id": "6445cc1d-cd9b-4330-bbaa-540da0e946ef",
   "metadata": {},
   "source": [
    "### 12. Save Cleaned Interim Data\n",
    "Write out cleaned copies of `historical` and `coins` to the interim folder for downstream notebooks."
   ]
  },
  {
   "cell_type": "code",
   "execution_count": null,
   "id": "b0c61963-60cc-49b1-b2ab-13fd6e5c0114",
   "metadata": {
    "scrolled": true
   },
   "outputs": [],
   "source": [
    "# (any cleaning steps would go here; currently pass-through)\n",
    "historical_clean = historical.copy()\n",
    "coins_clean      = coins.copy()\n",
    "\n",
    "os.makedirs(DATA_INTERIM, exist_ok=True)\n",
    "historical_clean.to_csv(f\"{DATA_INTERIM}/historical_clean.csv\", index=False)\n",
    "coins_clean.to_csv(f\"{DATA_INTERIM}/coins_clean.csv\", index=False)\n",
    "print(\"Saved historical_clean.csv & coins_clean.csv to interim/\")"
   ]
  }
 ],
 "metadata": {
  "kernelspec": {
   "display_name": ".venv",
   "language": "python",
   "name": "python3"
  },
  "language_info": {
   "codemirror_mode": {
    "name": "ipython",
    "version": 3
   },
   "file_extension": ".py",
   "mimetype": "text/x-python",
   "name": "python",
   "nbconvert_exporter": "python",
   "pygments_lexer": "ipython3",
   "version": "3.13.1"
  }
 },
 "nbformat": 4,
 "nbformat_minor": 5
}
