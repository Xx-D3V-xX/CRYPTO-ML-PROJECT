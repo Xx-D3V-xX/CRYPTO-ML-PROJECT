{
 "cells": [
  {
   "cell_type": "markdown",
   "id": "cc7d9de4-75fc-45cf-9b6a-592745a76df0",
   "metadata": {
    "papermill": {
     "duration": 0.003978,
     "end_time": "2025-05-07T19:18:00.408434",
     "exception": false,
     "start_time": "2025-05-07T19:18:00.404456",
     "status": "completed"
    },
    "tags": []
   },
   "source": [
    "# 3. Modeling & Final Training\n",
    "\n",
    "_In this notebook we:_  \n",
    "1. Load the fully processed dataset from `data/processed/historical_proc.csv`.  \n",
    "2. Verify that the target column (`target_up`) exists.  \n",
    "3. Impute any remaining missing values.  \n",
    "4. Define and tune our classifiers and regressors.  \n",
    "5. Use TimeSeriesSplit for honest CV.  \n",
    "6. Select the best classifier model.  \n",
    "7. Retrain that classifier on 100% of the data.  \n",
    "8. Save the final model for deployment."
   ]
  },
  {
   "cell_type": "markdown",
   "id": "b3a92773",
   "metadata": {
    "papermill": {
     "duration": 0.003122,
     "end_time": "2025-05-07T19:18:00.414996",
     "exception": false,
     "start_time": "2025-05-07T19:18:00.411874",
     "status": "completed"
    },
    "tags": []
   },
   "source": [
    "### 1. Parameters & Papermill Setup\n",
    "  1. Declare all variables you’ll define later so VS Code/Pylance stops complaining about `… is not defined`.  \n",
    "  2. Set `DATA_PROCESSED` and `MODEL_DIR` for Papermill to override.  \n",
    "  3. Default `USE_GPU=False` so on a CPU-only CI runner no GPU code paths are activated."
   ]
  },
  {
   "cell_type": "code",
   "execution_count": 1,
   "id": "6a05e415",
   "metadata": {
    "editable": true,
    "execution": {
     "iopub.execute_input": "2025-05-07T19:18:00.422980Z",
     "iopub.status.busy": "2025-05-07T19:18:00.422405Z",
     "iopub.status.idle": "2025-05-07T19:18:00.429827Z",
     "shell.execute_reply": "2025-05-07T19:18:00.429413Z"
    },
    "papermill": {
     "duration": 0.012531,
     "end_time": "2025-05-07T19:18:00.430749",
     "exception": false,
     "start_time": "2025-05-07T19:18:00.418218",
     "status": "completed"
    },
    "slideshow": {
     "slide_type": ""
    },
    "tags": [
     "parameters"
    ]
   },
   "outputs": [],
   "source": [
    "# Parameters cell for Papermill\n",
    "DATA_PROCESSED = \"data/processed\"\n",
    "MODEL_DIR      = \"src/models\"\n",
    "USE_GPU        = False  # will be re-evaluated in Cell 2\n"
   ]
  },
  {
   "cell_type": "code",
   "execution_count": 2,
   "id": "4dcc6c5f",
   "metadata": {
    "execution": {
     "iopub.execute_input": "2025-05-07T19:18:00.438239Z",
     "iopub.status.busy": "2025-05-07T19:18:00.437801Z",
     "iopub.status.idle": "2025-05-07T19:18:00.440536Z",
     "shell.execute_reply": "2025-05-07T19:18:00.440088Z"
    },
    "papermill": {
     "duration": 0.007281,
     "end_time": "2025-05-07T19:18:00.441324",
     "exception": false,
     "start_time": "2025-05-07T19:18:00.434043",
     "status": "completed"
    },
    "tags": [
     "injected-parameters"
    ]
   },
   "outputs": [],
   "source": [
    "# Parameters\n",
    "DATA_PROCESSED = \"data/processed\"\n",
    "MODEL_DIR = \"src/models\"\n"
   ]
  },
  {
   "cell_type": "markdown",
   "id": "72c8792b-b3bd-47bf-b551-33aa5c82b407",
   "metadata": {
    "papermill": {
     "duration": 0.003089,
     "end_time": "2025-05-07T19:18:00.447682",
     "exception": false,
     "start_time": "2025-05-07T19:18:00.444593",
     "status": "completed"
    },
    "tags": []
   },
   "source": [
    "### 2. Imports, Styling & GPU Flag\n",
    "\n",
    "- **multiprocessing.set_start_method('fork')** to avoid the `resource_tracker` warnings when using `n_jobs>1`.  \n",
    "- Suppress deprecation/device warnings.  \n",
    "- `%load_ext autotime` gives you per-cell timing.  \n",
    "- Re-evaluate `USE_GPU` from the `CI_USE_GPU` environment variable."
   ]
  },
  {
   "cell_type": "code",
   "execution_count": 3,
   "id": "f0479201-b730-4db0-90eb-adbc74de367f",
   "metadata": {
    "execution": {
     "iopub.execute_input": "2025-05-07T19:18:00.454946Z",
     "iopub.status.busy": "2025-05-07T19:18:00.454581Z",
     "iopub.status.idle": "2025-05-07T19:18:02.120282Z",
     "shell.execute_reply": "2025-05-07T19:18:02.119693Z"
    },
    "papermill": {
     "duration": 1.670332,
     "end_time": "2025-05-07T19:18:02.121221",
     "exception": false,
     "start_time": "2025-05-07T19:18:00.450889",
     "status": "completed"
    },
    "tags": []
   },
   "outputs": [
    {
     "name": "stdout",
     "output_type": "stream",
     "text": [
      "→ USE_GPU = False\n",
      "time: 531 μs (started: 2025-05-07 19:18:02 +00:00)\n"
     ]
    }
   ],
   "source": [
    "# Cell 2 – Imports & GPU flag\n",
    "\n",
    "import multiprocessing as mp\n",
    "mp.set_start_method('fork', force=True)    # avoids resource_tracker errors\n",
    "\n",
    "import os, warnings\n",
    "import pandas as pd, numpy as np\n",
    "import matplotlib.pyplot as plt, seaborn as sns\n",
    "\n",
    "from sklearn.model_selection import (\n",
    "    RandomizedSearchCV, GridSearchCV,\n",
    "    TimeSeriesSplit, ParameterGrid,\n",
    "    cross_val_score\n",
    ")\n",
    "from sklearn.impute import SimpleImputer\n",
    "from sklearn.linear_model import LogisticRegression\n",
    "from sklearn.feature_selection import VarianceThreshold\n",
    "from sklearn.ensemble import (\n",
    "    RandomForestClassifier, StackingClassifier,\n",
    "    RandomForestRegressor\n",
    ")\n",
    "from sklearn.metrics import (\n",
    "    accuracy_score, confusion_matrix,\n",
    "    classification_report,\n",
    "    mean_squared_error,\n",
    "    precision_recall_curve\n",
    ")\n",
    "import xgboost as xgb\n",
    "from lightgbm import LGBMClassifier, LGBMRegressor\n",
    "import joblib\n",
    "\n",
    "# Notebook UI setup\n",
    "warnings.filterwarnings(\"ignore\", message=\".*not used.*\")\n",
    "%matplotlib inline\n",
    "sns.set_style(\"whitegrid\")\n",
    "plt.rcParams[\"figure.figsize\"] = (8,5)\n",
    "%load_ext autotime\n",
    "\n",
    "# Re-evaluate GPU flag at runtime (CI runner can set CI_USE_GPU=true)\n",
    "USE_GPU = os.environ.get(\"CI_USE_GPU\",\"false\").lower() in (\"1\",\"true\",\"yes\")\n",
    "print(f\"→ USE_GPU = {USE_GPU}\")\n",
    "\n",
    "# Pre-declare names so linters/pylance won’t complain\n",
    "best_lr = best_rf = best_xgb = best_lgb = None\n",
    "stack_clf = None\n",
    "feature_cols = []\n",
    "imputer = None\n",
    "X_train_imp = X_test_imp = None\n",
    "keep_cols = []\n",
    "best_regr = {}"
   ]
  },
  {
   "cell_type": "markdown",
   "id": "16b9a3eb-3f09-4c99-a1c6-c9caba8a7322",
   "metadata": {
    "papermill": {
     "duration": 0.003186,
     "end_time": "2025-05-07T19:18:02.127896",
     "exception": false,
     "start_time": "2025-05-07T19:18:02.124710",
     "status": "completed"
    },
    "tags": []
   },
   "source": [
    "### 3. Load Features & Build Targets\n",
    "\n",
    "- Read in the processed features CSV.  \n",
    "- Sort by date, shift up to create “next-day” columns.  \n",
    "- Define three targets:  \n",
    "  - `target_up`: binary up/down tomorrow  \n",
    "  - `target_high`, `target_low`: regression targets.  \n",
    "- Drop the final row (it has no “next-day” values)."
   ]
  },
  {
   "cell_type": "code",
   "execution_count": 4,
   "id": "d57d7a1c-eeae-4d6b-a735-435387e3a43a",
   "metadata": {
    "execution": {
     "iopub.execute_input": "2025-05-07T19:18:02.135587Z",
     "iopub.status.busy": "2025-05-07T19:18:02.135101Z",
     "iopub.status.idle": "2025-05-07T19:18:19.358717Z",
     "shell.execute_reply": "2025-05-07T19:18:19.358063Z"
    },
    "papermill": {
     "duration": 17.228475,
     "end_time": "2025-05-07T19:18:19.359638",
     "exception": false,
     "start_time": "2025-05-07T19:18:02.131163",
     "status": "completed"
    },
    "tags": []
   },
   "outputs": [
    {
     "name": "stdout",
     "output_type": "stream",
     "text": [
      "DEBUG: data/processed contains: ['historical_proc.csv', 'coins_ohe.csv']\n"
     ]
    },
    {
     "name": "stdout",
     "output_type": "stream",
     "text": [
      "time: 17.2 s (started: 2025-05-07 19:18:02 +00:00)\n"
     ]
    }
   ],
   "source": [
    "# Cell 3 – Load processed CSV and rebuild next‐day targets\n",
    "\n",
    "print(\"DEBUG: data/processed contains:\", os.listdir(DATA_PROCESSED))\n",
    "\n",
    "df = pd.read_csv(\n",
    "    os.path.join(DATA_PROCESSED, \"historical_proc.csv\"),\n",
    "    parse_dates=[\"date\"]\n",
    ")\n",
    "df.sort_values(\"date\", inplace=True)\n",
    "\n",
    "# Next-day shifts\n",
    "df[\"close_next\"] = df[\"close\"].shift(-1)\n",
    "df[\"high_next\"]  = df[\"high\"].shift(-1)\n",
    "df[\"low_next\"]   = df[\"low\"].shift(-1)\n",
    "\n",
    "# Classification & regression targets\n",
    "df[\"target_up\"]   = (df[\"close_next\"] > df[\"close\"]).astype(int)\n",
    "df[\"target_high\"] = df[\"high_next\"]\n",
    "df[\"target_low\"]  = df[\"low_next\"]\n",
    "\n",
    "# Drop the last row (NaNs in any target)\n",
    "df.dropna(subset=[\"target_up\",\"target_high\",\"target_low\"], inplace=True)"
   ]
  },
  {
   "cell_type": "markdown",
   "id": "e43dbf95-228a-4354-a4f9-62aecc469d80",
   "metadata": {
    "papermill": {
     "duration": 0.003412,
     "end_time": "2025-05-07T19:18:19.366777",
     "exception": false,
     "start_time": "2025-05-07T19:18:19.363365",
     "status": "completed"
    },
    "tags": []
   },
   "source": [
    "### 4. Train / Test Split\n",
    "\n",
    "- Select feature columns (`_std`, `_mm`, `PC*`, and date parts).  \n",
    "- 75% of data for training, 25% for testing, preserving the time order."
   ]
  },
  {
   "cell_type": "code",
   "execution_count": 5,
   "id": "2ab42e11-52fe-4565-bfac-20e339fcb1b7",
   "metadata": {
    "execution": {
     "iopub.execute_input": "2025-05-07T19:18:19.374328Z",
     "iopub.status.busy": "2025-05-07T19:18:19.374098Z",
     "iopub.status.idle": "2025-05-07T19:18:19.445899Z",
     "shell.execute_reply": "2025-05-07T19:18:19.445291Z"
    },
    "papermill": {
     "duration": 0.076779,
     "end_time": "2025-05-07T19:18:19.446942",
     "exception": false,
     "start_time": "2025-05-07T19:18:19.370163",
     "status": "completed"
    },
    "tags": []
   },
   "outputs": [
    {
     "name": "stdout",
     "output_type": "stream",
     "text": [
      "Train/Test size → 3299567 / 1099856\n",
      "time: 68.2 ms (started: 2025-05-07 19:18:19 +00:00)\n"
     ]
    }
   ],
   "source": [
    "# Cell 4 – Train/Test split (75% / 25%)\n",
    "\n",
    "feature_cols = [\n",
    "    c for c in df.columns\n",
    "    if c.endswith((\"_std\",\"_mm\"))   # scaled numeric features\n",
    "    or c.startswith(\"PC\")           # PCA components\n",
    "    or c in [\"year\",\"month\",\"day\",\"weekday\"]\n",
    "]\n",
    "\n",
    "X      = df[feature_cols]\n",
    "y_up   = df[\"target_up\"]\n",
    "y_high = df[\"target_high\"]\n",
    "y_low  = df[\"target_low\"]\n",
    "\n",
    "split = int(len(df) * 0.75)\n",
    "X_train, X_test = X.iloc[:split], X.iloc[split:]\n",
    "y_up_train, y_up_test     = y_up.iloc[:split], y_up.iloc[split:]\n",
    "y_high_train, y_high_test = y_high.iloc[:split], y_high.iloc[split:]\n",
    "y_low_train, y_low_test   = y_low.iloc[:split], y_low.iloc[split:]\n",
    "\n",
    "print(f\"Train/Test size → {X_train.shape[0]} / {X_test.shape[0]}\")"
   ]
  },
  {
   "cell_type": "markdown",
   "id": "f5cef7e7-9fbe-4de7-b5f6-bcc12167b332",
   "metadata": {
    "papermill": {
     "duration": 0.003356,
     "end_time": "2025-05-07T19:18:19.454003",
     "exception": false,
     "start_time": "2025-05-07T19:18:19.450647",
     "status": "completed"
    },
    "tags": []
   },
   "source": [
    "### 5. Impute Missing Values\n",
    "\n",
    "- Use a `SimpleImputer(strategy=\"mean\")`.  \n",
    "- **Preserve** original DataFrame indices so later boolean masking stays aligned."
   ]
  },
  {
   "cell_type": "code",
   "execution_count": 6,
   "id": "0659509b-6e51-424b-b58c-a6d080c90502",
   "metadata": {
    "execution": {
     "iopub.execute_input": "2025-05-07T19:18:19.461726Z",
     "iopub.status.busy": "2025-05-07T19:18:19.461357Z",
     "iopub.status.idle": "2025-05-07T19:18:20.195747Z",
     "shell.execute_reply": "2025-05-07T19:18:20.195049Z"
    },
    "papermill": {
     "duration": 0.73936,
     "end_time": "2025-05-07T19:18:20.196805",
     "exception": false,
     "start_time": "2025-05-07T19:18:19.457445",
     "status": "completed"
    },
    "tags": []
   },
   "outputs": [
    {
     "name": "stdout",
     "output_type": "stream",
     "text": [
      "time: 731 ms (started: 2025-05-07 19:18:19 +00:00)\n"
     ]
    }
   ],
   "source": [
    "# Cell 5 – Impute missing values (mean)\n",
    "\n",
    "imputer = SimpleImputer(strategy=\"mean\")\n",
    "\n",
    "X_train_imp = pd.DataFrame(\n",
    "    imputer.fit_transform(X_train),\n",
    "    columns=feature_cols,\n",
    "    index=X_train.index\n",
    ")\n",
    "X_test_imp = pd.DataFrame(\n",
    "    imputer.transform(X_test),\n",
    "    columns=feature_cols,\n",
    "    index=X_test.index\n",
    ")"
   ]
  },
  {
   "cell_type": "markdown",
   "id": "c39bcde2-69e0-41b1-add0-7e7496e1edf2",
   "metadata": {
    "papermill": {
     "duration": 0.003431,
     "end_time": "2025-05-07T19:18:20.204134",
     "exception": false,
     "start_time": "2025-05-07T19:18:20.200703",
     "status": "completed"
    },
    "tags": []
   },
   "source": [
    "### Cell 6 – Initialize classifiers & parameter grids\n",
    "\n",
    "In this cell we:\n",
    "\n",
    "- Create a 3-fold time-series splitter.\n",
    "- Instantiate:\n",
    "  - **LogisticRegression** (always CPU).\n",
    "  - **RandomForestClassifier** (always CPU).\n",
    "  - **XGBClassifier** with `tree_method=\"gpu_hist\"` + `gpu_id=0` if `USE_GPU`, otherwise `tree_method=\"hist\"` only.\n",
    "  - **LGBMClassifier** with GPU flags only under `USE_GPU`.\n",
    "- Define small hyperparameter grids for each model."
   ]
  },
  {
   "cell_type": "code",
   "execution_count": 7,
   "id": "7099fcc5-ea9a-4adc-b5c0-08b4d6124079",
   "metadata": {
    "execution": {
     "iopub.execute_input": "2025-05-07T19:18:20.212302Z",
     "iopub.status.busy": "2025-05-07T19:18:20.211810Z",
     "iopub.status.idle": "2025-05-07T19:18:20.217774Z",
     "shell.execute_reply": "2025-05-07T19:18:20.217184Z"
    },
    "papermill": {
     "duration": 0.01105,
     "end_time": "2025-05-07T19:18:20.218771",
     "exception": false,
     "start_time": "2025-05-07T19:18:20.207721",
     "status": "completed"
    },
    "scrolled": true,
    "tags": []
   },
   "outputs": [
    {
     "name": "stdout",
     "output_type": "stream",
     "text": [
      "time: 1.34 ms (started: 2025-05-07 19:18:20 +00:00)\n"
     ]
    }
   ],
   "source": [
    "# Cell 6 – Initialize classifiers & parameter grids\n",
    "\n",
    "tscv = TimeSeriesSplit(n_splits=3)\n",
    "\n",
    "# 1) Logistic Regression (CPU only)\n",
    "lr_clf = LogisticRegression(\n",
    "    class_weight=\"balanced\", max_iter=2000, random_state=42\n",
    ")\n",
    "\n",
    "# 2) Random Forest (CPU only)\n",
    "rf_clf = RandomForestClassifier(\n",
    "    class_weight=\"balanced\", n_jobs=1, random_state=42\n",
    ")\n",
    "\n",
    "# 3) XGBoost Classifier (GPU if flagged)\n",
    "xgb_params = {\n",
    "    \"tree_method\": \"gpu_hist\" if USE_GPU else \"hist\",\n",
    "    \"eval_metric\": \"logloss\",\n",
    "    \"random_state\": 42\n",
    "}\n",
    "if USE_GPU:\n",
    "    xgb_params[\"gpu_id\"] = 0\n",
    "xgb_clf = xgb.XGBClassifier(**xgb_params)\n",
    "\n",
    "# 4) LightGBM Classifier\n",
    "lgb_params = {\n",
    "    \"n_estimators\": 100,\n",
    "    \"max_depth\": 7,\n",
    "    \"learning_rate\": 0.05,\n",
    "    \"random_state\": 42\n",
    "}\n",
    "if USE_GPU:\n",
    "    lgb_params.update(device=\"gpu\", gpu_platform_id=0, gpu_device_id=0)\n",
    "lgb_clf = LGBMClassifier(**lgb_params)\n",
    "\n",
    "# Hyperparameter grids\n",
    "param_lr  = {\"C\":[0.1,1]}\n",
    "param_rf  = {\"n_estimators\":[50,100],\"max_depth\":[5,10]}\n",
    "param_xgb = {\"n_estimators\":[100,200],\"max_depth\":[3,5],\"learning_rate\":[0.05,0.1]}\n",
    "param_lgb = {\"n_estimators\":[100,200],\"max_depth\":[5,7],\"learning_rate\":[0.05,0.1]}"
   ]
  },
  {
   "cell_type": "markdown",
   "id": "23edb86f-5990-4c04-85db-aaebdb4a730a",
   "metadata": {
    "papermill": {
     "duration": 0.00352,
     "end_time": "2025-05-07T19:18:20.226018",
     "exception": false,
     "start_time": "2025-05-07T19:18:20.222498",
     "status": "completed"
    },
    "tags": []
   },
   "source": [
    "### 7. Fast Hyperparameter Tuning\n",
    "\n",
    "- A helper `tune_fast` that:  \n",
    "  1. Sub-samples RF on a fraction of the data  \n",
    "  2. Chooses `GridSearchCV` vs. `RandomizedSearchCV`  \n",
    "  3. Uses a thread pool (`parallel_backend('threading')`) to avoid resource-tracker issues"
   ]
  },
  {
   "cell_type": "code",
   "execution_count": 8,
   "id": "09ddcc8a-f00b-4fa1-a505-9ddd51ff8df9",
   "metadata": {
    "execution": {
     "iopub.execute_input": "2025-05-07T19:18:20.233833Z",
     "iopub.status.busy": "2025-05-07T19:18:20.233651Z",
     "iopub.status.idle": "2025-05-07T19:37:43.791739Z",
     "shell.execute_reply": "2025-05-07T19:37:43.791078Z"
    },
    "papermill": {
     "duration": 1163.563186,
     "end_time": "2025-05-07T19:37:43.792765",
     "exception": false,
     "start_time": "2025-05-07T19:18:20.229579",
     "status": "completed"
    },
    "tags": []
   },
   "outputs": [
    {
     "name": "stdout",
     "output_type": "stream",
     "text": [
      "\n",
      "▶ Tuning Logistic at 19:18:20\n",
      "Fitting 3 folds for each of 2 candidates, totalling 6 fits\n"
     ]
    },
    {
     "name": "stdout",
     "output_type": "stream",
     "text": [
      "[CV] END ..............................................C=0.1; total time=   4.3s\n"
     ]
    },
    {
     "name": "stdout",
     "output_type": "stream",
     "text": [
      "[CV] END ..............................................C=0.1; total time=   2.3s\n"
     ]
    },
    {
     "name": "stdout",
     "output_type": "stream",
     "text": [
      "[CV] END ..............................................C=0.1; total time=   2.8s\n"
     ]
    },
    {
     "name": "stdout",
     "output_type": "stream",
     "text": [
      "[CV] END ................................................C=1; total time=   4.0s\n"
     ]
    },
    {
     "name": "stdout",
     "output_type": "stream",
     "text": [
      "[CV] END ................................................C=1; total time=   2.2s\n"
     ]
    },
    {
     "name": "stdout",
     "output_type": "stream",
     "text": [
      "[CV] END ................................................C=1; total time=   2.7s\n"
     ]
    },
    {
     "name": "stdout",
     "output_type": "stream",
     "text": [
      "✔ Logistic done in 27.7s — best=0.4976 @ {'C': 0.1}\n",
      "\n",
      "▶ Tuning RandomForest at 19:18:47\n"
     ]
    },
    {
     "name": "stdout",
     "output_type": "stream",
     "text": [
      "Fitting 3 folds for each of 3 candidates, totalling 9 fits\n"
     ]
    },
    {
     "name": "stdout",
     "output_type": "stream",
     "text": [
      "[CV] END ......................max_depth=5, n_estimators=100; total time=  33.0s\n"
     ]
    },
    {
     "name": "stdout",
     "output_type": "stream",
     "text": [
      "[CV] END ......................max_depth=5, n_estimators=100; total time= 1.2min\n"
     ]
    },
    {
     "name": "stdout",
     "output_type": "stream",
     "text": [
      "[CV] END ......................max_depth=5, n_estimators=100; total time= 2.0min\n"
     ]
    },
    {
     "name": "stdout",
     "output_type": "stream",
     "text": [
      "[CV] END .....................max_depth=10, n_estimators=100; total time= 1.0min\n"
     ]
    },
    {
     "name": "stdout",
     "output_type": "stream",
     "text": [
      "[CV] END .....................max_depth=10, n_estimators=100; total time= 2.0min\n"
     ]
    },
    {
     "name": "stdout",
     "output_type": "stream",
     "text": [
      "[CV] END .....................max_depth=10, n_estimators=100; total time= 3.1min\n"
     ]
    },
    {
     "name": "stdout",
     "output_type": "stream",
     "text": [
      "[CV] END .......................max_depth=5, n_estimators=50; total time=  16.1s\n"
     ]
    },
    {
     "name": "stdout",
     "output_type": "stream",
     "text": [
      "[CV] END .......................max_depth=5, n_estimators=50; total time=  32.0s\n"
     ]
    },
    {
     "name": "stdout",
     "output_type": "stream",
     "text": [
      "[CV] END .......................max_depth=5, n_estimators=50; total time=  49.1s\n"
     ]
    },
    {
     "name": "stdout",
     "output_type": "stream",
     "text": [
      "✔ RandomForest done in 938.8s — best=0.7458 @ {'n_estimators': 100, 'max_depth': 10}\n",
      "\n",
      "▶ Tuning XGBoost at 19:34:26\n",
      "Fitting 3 folds for each of 3 candidates, totalling 9 fits\n"
     ]
    },
    {
     "name": "stdout",
     "output_type": "stream",
     "text": [
      "[CV] END ..learning_rate=0.05, max_depth=3, n_estimators=200; total time=   3.7s\n"
     ]
    },
    {
     "name": "stdout",
     "output_type": "stream",
     "text": [
      "[CV] END ..learning_rate=0.05, max_depth=3, n_estimators=200; total time=   6.7s\n"
     ]
    },
    {
     "name": "stdout",
     "output_type": "stream",
     "text": [
      "[CV] END ..learning_rate=0.05, max_depth=3, n_estimators=200; total time=  10.5s\n"
     ]
    },
    {
     "name": "stdout",
     "output_type": "stream",
     "text": [
      "[CV] END ...learning_rate=0.1, max_depth=3, n_estimators=200; total time=   3.6s\n"
     ]
    },
    {
     "name": "stdout",
     "output_type": "stream",
     "text": [
      "[CV] END ...learning_rate=0.1, max_depth=3, n_estimators=200; total time=   6.7s\n"
     ]
    },
    {
     "name": "stdout",
     "output_type": "stream",
     "text": [
      "[CV] END ...learning_rate=0.1, max_depth=3, n_estimators=200; total time=  10.1s\n"
     ]
    },
    {
     "name": "stdout",
     "output_type": "stream",
     "text": [
      "[CV] END ..learning_rate=0.05, max_depth=3, n_estimators=100; total time=   2.3s\n"
     ]
    },
    {
     "name": "stdout",
     "output_type": "stream",
     "text": [
      "[CV] END ..learning_rate=0.05, max_depth=3, n_estimators=100; total time=   4.2s\n"
     ]
    },
    {
     "name": "stdout",
     "output_type": "stream",
     "text": [
      "[CV] END ..learning_rate=0.05, max_depth=3, n_estimators=100; total time=   6.5s\n"
     ]
    },
    {
     "name": "stdout",
     "output_type": "stream",
     "text": [
      "✔ XGBoost done in 67.0s — best=0.6819 @ {'n_estimators': 200, 'max_depth': 3, 'learning_rate': 0.1}\n",
      "\n",
      "▶ Tuning LightGBM at 19:35:33\n",
      "Fitting 3 folds for each of 3 candidates, totalling 9 fits\n"
     ]
    },
    {
     "name": "stdout",
     "output_type": "stream",
     "text": [
      "[LightGBM] [Info] Number of positive: 382937, number of negative: 441957\n",
      "[LightGBM] [Info] Auto-choosing row-wise multi-threading, the overhead of testing was 0.018348 seconds.\n",
      "You can set `force_row_wise=true` to remove the overhead.\n",
      "And if memory is not enough, you can set `force_col_wise=true`.\n",
      "[LightGBM] [Info] Total Bins 3118\n",
      "[LightGBM] [Info] Number of data points in the train set: 824894, number of used features: 16\n",
      "[LightGBM] [Info] [binary:BoostFromScore]: pavg=0.464226 -> initscore=-0.143342\n",
      "[LightGBM] [Info] Start training from score -0.143342\n"
     ]
    },
    {
     "name": "stdout",
     "output_type": "stream",
     "text": [
      "[LightGBM] [Warning] No further splits with positive gain, best gain: -inf\n",
      "[LightGBM] [Warning] No further splits with positive gain, best gain: -inf\n"
     ]
    },
    {
     "name": "stdout",
     "output_type": "stream",
     "text": [
      "[LightGBM] [Warning] No further splits with positive gain, best gain: -inf\n",
      "[LightGBM] [Warning] No further splits with positive gain, best gain: -inf\n",
      "[LightGBM] [Warning] No further splits with positive gain, best gain: -inf\n"
     ]
    },
    {
     "name": "stdout",
     "output_type": "stream",
     "text": [
      "[LightGBM] [Warning] No further splits with positive gain, best gain: -inf\n",
      "[LightGBM] [Warning] No further splits with positive gain, best gain: -inf\n",
      "[LightGBM] [Warning] No further splits with positive gain, best gain: -inf\n"
     ]
    },
    {
     "name": "stdout",
     "output_type": "stream",
     "text": [
      "[LightGBM] [Warning] No further splits with positive gain, best gain: -inf\n",
      "[LightGBM] [Warning] No further splits with positive gain, best gain: -inf\n"
     ]
    },
    {
     "name": "stdout",
     "output_type": "stream",
     "text": [
      "[LightGBM] [Warning] No further splits with positive gain, best gain: -inf\n",
      "[LightGBM] [Warning] No further splits with positive gain, best gain: -inf\n",
      "[LightGBM] [Warning] No further splits with positive gain, best gain: -inf\n"
     ]
    },
    {
     "name": "stdout",
     "output_type": "stream",
     "text": [
      "[LightGBM] [Warning] No further splits with positive gain, best gain: -inf\n",
      "[LightGBM] [Warning] No further splits with positive gain, best gain: -inf\n",
      "[LightGBM] [Warning] No further splits with positive gain, best gain: -inf\n",
      "[LightGBM] [Warning] No further splits with positive gain, best gain: -inf\n",
      "[LightGBM] [Warning] No further splits with positive gain, best gain: -inf\n"
     ]
    },
    {
     "name": "stdout",
     "output_type": "stream",
     "text": [
      "[LightGBM] [Warning] No further splits with positive gain, best gain: -inf\n",
      "[LightGBM] [Warning] No further splits with positive gain, best gain: -inf\n",
      "[LightGBM] [Warning] No further splits with positive gain, best gain: -inf\n",
      "[LightGBM] [Warning] No further splits with positive gain, best gain: -inf\n"
     ]
    },
    {
     "name": "stdout",
     "output_type": "stream",
     "text": [
      "[CV] END ..learning_rate=0.05, max_depth=5, n_estimators=200; total time=   8.4s\n"
     ]
    },
    {
     "name": "stdout",
     "output_type": "stream",
     "text": [
      "[LightGBM] [Info] Number of positive: 835368, number of negative: 814417\n",
      "[LightGBM] [Info] Auto-choosing row-wise multi-threading, the overhead of testing was 0.037274 seconds.\n",
      "You can set `force_row_wise=true` to remove the overhead.\n",
      "And if memory is not enough, you can set `force_col_wise=true`.\n",
      "[LightGBM] [Info] Total Bins 3120\n",
      "[LightGBM] [Info] Number of data points in the train set: 1649785, number of used features: 16\n",
      "[LightGBM] [Info] [binary:BoostFromScore]: pavg=0.506350 -> initscore=0.025400\n",
      "[LightGBM] [Info] Start training from score 0.025400\n"
     ]
    },
    {
     "name": "stdout",
     "output_type": "stream",
     "text": [
      "[LightGBM] [Warning] No further splits with positive gain, best gain: -inf\n"
     ]
    },
    {
     "name": "stdout",
     "output_type": "stream",
     "text": [
      "[LightGBM] [Warning] No further splits with positive gain, best gain: -inf\n"
     ]
    },
    {
     "name": "stdout",
     "output_type": "stream",
     "text": [
      "[LightGBM] [Warning] No further splits with positive gain, best gain: -inf\n"
     ]
    },
    {
     "name": "stdout",
     "output_type": "stream",
     "text": [
      "[LightGBM] [Warning] No further splits with positive gain, best gain: -inf\n"
     ]
    },
    {
     "name": "stdout",
     "output_type": "stream",
     "text": [
      "[LightGBM] [Warning] No further splits with positive gain, best gain: -inf\n"
     ]
    },
    {
     "name": "stdout",
     "output_type": "stream",
     "text": [
      "[LightGBM] [Warning] No further splits with positive gain, best gain: -inf\n",
      "[LightGBM] [Warning] No further splits with positive gain, best gain: -inf\n"
     ]
    },
    {
     "name": "stdout",
     "output_type": "stream",
     "text": [
      "[LightGBM] [Warning] No further splits with positive gain, best gain: -inf\n"
     ]
    },
    {
     "name": "stdout",
     "output_type": "stream",
     "text": [
      "[LightGBM] [Warning] No further splits with positive gain, best gain: -inf\n"
     ]
    },
    {
     "name": "stdout",
     "output_type": "stream",
     "text": [
      "[CV] END ..learning_rate=0.05, max_depth=5, n_estimators=200; total time=  14.2s\n"
     ]
    },
    {
     "name": "stdout",
     "output_type": "stream",
     "text": [
      "[LightGBM] [Info] Number of positive: 1228152, number of negative: 1246524\n",
      "[LightGBM] [Info] Auto-choosing row-wise multi-threading, the overhead of testing was 0.055647 seconds.\n",
      "You can set `force_row_wise=true` to remove the overhead.\n",
      "And if memory is not enough, you can set `force_col_wise=true`.\n",
      "[LightGBM] [Info] Total Bins 3121\n",
      "[LightGBM] [Info] Number of data points in the train set: 2474676, number of used features: 16\n",
      "[LightGBM] [Info] [binary:BoostFromScore]: pavg=0.496288 -> initscore=-0.014848\n",
      "[LightGBM] [Info] Start training from score -0.014848\n"
     ]
    },
    {
     "name": "stdout",
     "output_type": "stream",
     "text": [
      "[LightGBM] [Warning] No further splits with positive gain, best gain: -inf\n",
      "[LightGBM] [Warning] No further splits with positive gain, best gain: -inf\n"
     ]
    },
    {
     "name": "stdout",
     "output_type": "stream",
     "text": [
      "[LightGBM] [Warning] No further splits with positive gain, best gain: -inf\n"
     ]
    },
    {
     "name": "stdout",
     "output_type": "stream",
     "text": [
      "[LightGBM] [Warning] No further splits with positive gain, best gain: -inf\n",
      "[LightGBM] [Warning] No further splits with positive gain, best gain: -inf\n"
     ]
    },
    {
     "name": "stdout",
     "output_type": "stream",
     "text": [
      "[LightGBM] [Warning] No further splits with positive gain, best gain: -inf\n"
     ]
    },
    {
     "name": "stdout",
     "output_type": "stream",
     "text": [
      "[LightGBM] [Warning] No further splits with positive gain, best gain: -inf\n"
     ]
    },
    {
     "name": "stdout",
     "output_type": "stream",
     "text": [
      "[CV] END ..learning_rate=0.05, max_depth=5, n_estimators=200; total time=  20.0s\n"
     ]
    },
    {
     "name": "stdout",
     "output_type": "stream",
     "text": [
      "[LightGBM] [Info] Number of positive: 382937, number of negative: 441957\n",
      "[LightGBM] [Info] Auto-choosing row-wise multi-threading, the overhead of testing was 0.018050 seconds.\n",
      "You can set `force_row_wise=true` to remove the overhead.\n",
      "And if memory is not enough, you can set `force_col_wise=true`.\n",
      "[LightGBM] [Info] Total Bins 3118\n",
      "[LightGBM] [Info] Number of data points in the train set: 824894, number of used features: 16\n",
      "[LightGBM] [Info] [binary:BoostFromScore]: pavg=0.464226 -> initscore=-0.143342\n",
      "[LightGBM] [Info] Start training from score -0.143342\n"
     ]
    },
    {
     "name": "stdout",
     "output_type": "stream",
     "text": [
      "[LightGBM] [Warning] No further splits with positive gain, best gain: -inf\n",
      "[LightGBM] [Warning] No further splits with positive gain, best gain: -inf\n",
      "[LightGBM] [Warning] No further splits with positive gain, best gain: -inf\n"
     ]
    },
    {
     "name": "stdout",
     "output_type": "stream",
     "text": [
      "[LightGBM] [Warning] No further splits with positive gain, best gain: -inf\n"
     ]
    },
    {
     "name": "stdout",
     "output_type": "stream",
     "text": [
      "[LightGBM] [Warning] No further splits with positive gain, best gain: -inf\n",
      "[LightGBM] [Warning] No further splits with positive gain, best gain: -inf\n",
      "[LightGBM] [Warning] No further splits with positive gain, best gain: -inf\n"
     ]
    },
    {
     "name": "stdout",
     "output_type": "stream",
     "text": [
      "[LightGBM] [Warning] No further splits with positive gain, best gain: -inf\n",
      "[LightGBM] [Warning] No further splits with positive gain, best gain: -inf\n"
     ]
    },
    {
     "name": "stdout",
     "output_type": "stream",
     "text": [
      "[LightGBM] [Warning] No further splits with positive gain, best gain: -inf\n",
      "[LightGBM] [Warning] No further splits with positive gain, best gain: -inf\n"
     ]
    },
    {
     "name": "stdout",
     "output_type": "stream",
     "text": [
      "[LightGBM] [Warning] No further splits with positive gain, best gain: -inf\n"
     ]
    },
    {
     "name": "stdout",
     "output_type": "stream",
     "text": [
      "[LightGBM] [Warning] No further splits with positive gain, best gain: -inf\n",
      "[LightGBM] [Warning] No further splits with positive gain, best gain: -inf\n"
     ]
    },
    {
     "name": "stdout",
     "output_type": "stream",
     "text": [
      "[LightGBM] [Warning] No further splits with positive gain, best gain: -inf\n",
      "[LightGBM] [Warning] No further splits with positive gain, best gain: -inf\n",
      "[LightGBM] [Warning] No further splits with positive gain, best gain: -inf\n"
     ]
    },
    {
     "name": "stdout",
     "output_type": "stream",
     "text": [
      "[LightGBM] [Warning] No further splits with positive gain, best gain: -inf\n",
      "[LightGBM] [Warning] No further splits with positive gain, best gain: -inf\n",
      "[LightGBM] [Warning] No further splits with positive gain, best gain: -inf\n"
     ]
    },
    {
     "name": "stdout",
     "output_type": "stream",
     "text": [
      "[LightGBM] [Warning] No further splits with positive gain, best gain: -inf\n",
      "[LightGBM] [Warning] No further splits with positive gain, best gain: -inf\n",
      "[LightGBM] [Warning] No further splits with positive gain, best gain: -inf\n"
     ]
    },
    {
     "name": "stdout",
     "output_type": "stream",
     "text": [
      "[LightGBM] [Warning] No further splits with positive gain, best gain: -inf\n",
      "[LightGBM] [Warning] No further splits with positive gain, best gain: -inf\n",
      "[LightGBM] [Warning] No further splits with positive gain, best gain: -inf\n",
      "[LightGBM] [Warning] No further splits with positive gain, best gain: -inf\n"
     ]
    },
    {
     "name": "stdout",
     "output_type": "stream",
     "text": [
      "[LightGBM] [Warning] No further splits with positive gain, best gain: -inf\n",
      "[LightGBM] [Warning] No further splits with positive gain, best gain: -inf\n"
     ]
    },
    {
     "name": "stdout",
     "output_type": "stream",
     "text": [
      "[LightGBM] [Warning] No further splits with positive gain, best gain: -inf\n",
      "[LightGBM] [Warning] No further splits with positive gain, best gain: -inf\n",
      "[LightGBM] [Warning] No further splits with positive gain, best gain: -inf\n"
     ]
    },
    {
     "name": "stdout",
     "output_type": "stream",
     "text": [
      "[LightGBM] [Warning] No further splits with positive gain, best gain: -inf\n",
      "[LightGBM] [Warning] No further splits with positive gain, best gain: -inf\n"
     ]
    },
    {
     "name": "stdout",
     "output_type": "stream",
     "text": [
      "[LightGBM] [Warning] No further splits with positive gain, best gain: -inf\n",
      "[LightGBM] [Warning] No further splits with positive gain, best gain: -inf\n",
      "[LightGBM] [Warning] No further splits with positive gain, best gain: -inf\n",
      "[LightGBM] [Warning] No further splits with positive gain, best gain: -inf\n",
      "[LightGBM] [Warning] No further splits with positive gain, best gain: -inf\n",
      "[LightGBM] [Warning] No further splits with positive gain, best gain: -inf\n"
     ]
    },
    {
     "name": "stdout",
     "output_type": "stream",
     "text": [
      "[LightGBM] [Warning] No further splits with positive gain, best gain: -inf\n"
     ]
    },
    {
     "name": "stdout",
     "output_type": "stream",
     "text": [
      "[CV] END ...learning_rate=0.1, max_depth=5, n_estimators=200; total time=   8.0s\n"
     ]
    },
    {
     "name": "stdout",
     "output_type": "stream",
     "text": [
      "[LightGBM] [Info] Number of positive: 835368, number of negative: 814417\n",
      "[LightGBM] [Info] Auto-choosing row-wise multi-threading, the overhead of testing was 0.037995 seconds.\n",
      "You can set `force_row_wise=true` to remove the overhead.\n",
      "And if memory is not enough, you can set `force_col_wise=true`.\n",
      "[LightGBM] [Info] Total Bins 3120\n",
      "[LightGBM] [Info] Number of data points in the train set: 1649785, number of used features: 16\n",
      "[LightGBM] [Info] [binary:BoostFromScore]: pavg=0.506350 -> initscore=0.025400\n",
      "[LightGBM] [Info] Start training from score 0.025400\n"
     ]
    },
    {
     "name": "stdout",
     "output_type": "stream",
     "text": [
      "[LightGBM] [Warning] No further splits with positive gain, best gain: -inf\n"
     ]
    },
    {
     "name": "stdout",
     "output_type": "stream",
     "text": [
      "[LightGBM] [Warning] No further splits with positive gain, best gain: -inf\n"
     ]
    },
    {
     "name": "stdout",
     "output_type": "stream",
     "text": [
      "[LightGBM] [Warning] No further splits with positive gain, best gain: -inf\n"
     ]
    },
    {
     "name": "stdout",
     "output_type": "stream",
     "text": [
      "[LightGBM] [Warning] No further splits with positive gain, best gain: -inf\n"
     ]
    },
    {
     "name": "stdout",
     "output_type": "stream",
     "text": [
      "[LightGBM] [Warning] No further splits with positive gain, best gain: -inf\n"
     ]
    },
    {
     "name": "stdout",
     "output_type": "stream",
     "text": [
      "[LightGBM] [Warning] No further splits with positive gain, best gain: -inf\n"
     ]
    },
    {
     "name": "stdout",
     "output_type": "stream",
     "text": [
      "[LightGBM] [Warning] No further splits with positive gain, best gain: -inf\n",
      "[LightGBM] [Warning] No further splits with positive gain, best gain: -inf\n"
     ]
    },
    {
     "name": "stdout",
     "output_type": "stream",
     "text": [
      "[LightGBM] [Warning] No further splits with positive gain, best gain: -inf\n",
      "[LightGBM] [Warning] No further splits with positive gain, best gain: -inf\n"
     ]
    },
    {
     "name": "stdout",
     "output_type": "stream",
     "text": [
      "[LightGBM] [Warning] No further splits with positive gain, best gain: -inf\n",
      "[LightGBM] [Warning] No further splits with positive gain, best gain: -inf\n"
     ]
    },
    {
     "name": "stdout",
     "output_type": "stream",
     "text": [
      "[LightGBM] [Warning] No further splits with positive gain, best gain: -inf\n",
      "[LightGBM] [Warning] No further splits with positive gain, best gain: -inf\n",
      "[LightGBM] [Warning] No further splits with positive gain, best gain: -inf\n"
     ]
    },
    {
     "name": "stdout",
     "output_type": "stream",
     "text": [
      "[CV] END ...learning_rate=0.1, max_depth=5, n_estimators=200; total time=  13.6s\n"
     ]
    },
    {
     "name": "stdout",
     "output_type": "stream",
     "text": [
      "[LightGBM] [Info] Number of positive: 1228152, number of negative: 1246524\n",
      "[LightGBM] [Info] Auto-choosing row-wise multi-threading, the overhead of testing was 0.055423 seconds.\n",
      "You can set `force_row_wise=true` to remove the overhead.\n",
      "And if memory is not enough, you can set `force_col_wise=true`.\n",
      "[LightGBM] [Info] Total Bins 3121\n",
      "[LightGBM] [Info] Number of data points in the train set: 2474676, number of used features: 16\n",
      "[LightGBM] [Info] [binary:BoostFromScore]: pavg=0.496288 -> initscore=-0.014848\n",
      "[LightGBM] [Info] Start training from score -0.014848\n"
     ]
    },
    {
     "name": "stdout",
     "output_type": "stream",
     "text": [
      "[LightGBM] [Warning] No further splits with positive gain, best gain: -inf\n"
     ]
    },
    {
     "name": "stdout",
     "output_type": "stream",
     "text": [
      "[LightGBM] [Warning] No further splits with positive gain, best gain: -inf\n"
     ]
    },
    {
     "name": "stdout",
     "output_type": "stream",
     "text": [
      "[LightGBM] [Warning] No further splits with positive gain, best gain: -inf\n",
      "[LightGBM] [Warning] No further splits with positive gain, best gain: -inf\n"
     ]
    },
    {
     "name": "stdout",
     "output_type": "stream",
     "text": [
      "[LightGBM] [Warning] No further splits with positive gain, best gain: -inf\n"
     ]
    },
    {
     "name": "stdout",
     "output_type": "stream",
     "text": [
      "[LightGBM] [Warning] No further splits with positive gain, best gain: -inf\n"
     ]
    },
    {
     "name": "stdout",
     "output_type": "stream",
     "text": [
      "[LightGBM] [Warning] No further splits with positive gain, best gain: -inf\n"
     ]
    },
    {
     "name": "stdout",
     "output_type": "stream",
     "text": [
      "[LightGBM] [Warning] No further splits with positive gain, best gain: -inf\n"
     ]
    },
    {
     "name": "stdout",
     "output_type": "stream",
     "text": [
      "[LightGBM] [Warning] No further splits with positive gain, best gain: -inf\n"
     ]
    },
    {
     "name": "stdout",
     "output_type": "stream",
     "text": [
      "[LightGBM] [Warning] No further splits with positive gain, best gain: -inf\n"
     ]
    },
    {
     "name": "stdout",
     "output_type": "stream",
     "text": [
      "[CV] END ...learning_rate=0.1, max_depth=5, n_estimators=200; total time=  19.3s\n"
     ]
    },
    {
     "name": "stdout",
     "output_type": "stream",
     "text": [
      "[LightGBM] [Info] Number of positive: 382937, number of negative: 441957\n",
      "[LightGBM] [Info] Auto-choosing row-wise multi-threading, the overhead of testing was 0.017876 seconds.\n",
      "You can set `force_row_wise=true` to remove the overhead.\n",
      "And if memory is not enough, you can set `force_col_wise=true`.\n",
      "[LightGBM] [Info] Total Bins 3118\n",
      "[LightGBM] [Info] Number of data points in the train set: 824894, number of used features: 16\n",
      "[LightGBM] [Info] [binary:BoostFromScore]: pavg=0.464226 -> initscore=-0.143342\n",
      "[LightGBM] [Info] Start training from score -0.143342\n"
     ]
    },
    {
     "name": "stdout",
     "output_type": "stream",
     "text": [
      "[LightGBM] [Warning] No further splits with positive gain, best gain: -inf\n"
     ]
    },
    {
     "name": "stdout",
     "output_type": "stream",
     "text": [
      "[CV] END ..learning_rate=0.05, max_depth=5, n_estimators=100; total time=   4.6s\n"
     ]
    },
    {
     "name": "stdout",
     "output_type": "stream",
     "text": [
      "[LightGBM] [Info] Number of positive: 835368, number of negative: 814417\n",
      "[LightGBM] [Info] Auto-choosing row-wise multi-threading, the overhead of testing was 0.037077 seconds.\n",
      "You can set `force_row_wise=true` to remove the overhead.\n",
      "And if memory is not enough, you can set `force_col_wise=true`.\n",
      "[LightGBM] [Info] Total Bins 3120\n",
      "[LightGBM] [Info] Number of data points in the train set: 1649785, number of used features: 16\n",
      "[LightGBM] [Info] [binary:BoostFromScore]: pavg=0.506350 -> initscore=0.025400\n",
      "[LightGBM] [Info] Start training from score 0.025400\n"
     ]
    },
    {
     "name": "stdout",
     "output_type": "stream",
     "text": [
      "[CV] END ..learning_rate=0.05, max_depth=5, n_estimators=100; total time=   8.0s\n"
     ]
    },
    {
     "name": "stdout",
     "output_type": "stream",
     "text": [
      "[LightGBM] [Info] Number of positive: 1228152, number of negative: 1246524\n"
     ]
    },
    {
     "name": "stdout",
     "output_type": "stream",
     "text": [
      "[LightGBM] [Info] Auto-choosing row-wise multi-threading, the overhead of testing was 0.056577 seconds.\n",
      "You can set `force_row_wise=true` to remove the overhead.\n",
      "And if memory is not enough, you can set `force_col_wise=true`.\n",
      "[LightGBM] [Info] Total Bins 3121\n",
      "[LightGBM] [Info] Number of data points in the train set: 2474676, number of used features: 16\n",
      "[LightGBM] [Info] [binary:BoostFromScore]: pavg=0.496288 -> initscore=-0.014848\n",
      "[LightGBM] [Info] Start training from score -0.014848\n"
     ]
    },
    {
     "name": "stdout",
     "output_type": "stream",
     "text": [
      "[LightGBM] [Warning] No further splits with positive gain, best gain: -inf\n",
      "[LightGBM] [Warning] No further splits with positive gain, best gain: -inf\n"
     ]
    },
    {
     "name": "stdout",
     "output_type": "stream",
     "text": [
      "[CV] END ..learning_rate=0.05, max_depth=5, n_estimators=100; total time=  11.6s\n"
     ]
    },
    {
     "name": "stdout",
     "output_type": "stream",
     "text": [
      "[LightGBM] [Info] Number of positive: 1594956, number of negative: 1704611\n"
     ]
    },
    {
     "name": "stdout",
     "output_type": "stream",
     "text": [
      "[LightGBM] [Info] Auto-choosing row-wise multi-threading, the overhead of testing was 0.078692 seconds.\n",
      "You can set `force_row_wise=true` to remove the overhead.\n",
      "And if memory is not enough, you can set `force_col_wise=true`.\n",
      "[LightGBM] [Info] Total Bins 3121\n",
      "[LightGBM] [Info] Number of data points in the train set: 3299567, number of used features: 16\n",
      "[LightGBM] [Info] [binary:BoostFromScore]: pavg=0.483383 -> initscore=-0.066491\n",
      "[LightGBM] [Info] Start training from score -0.066491\n"
     ]
    },
    {
     "name": "stdout",
     "output_type": "stream",
     "text": [
      "[LightGBM] [Warning] No further splits with positive gain, best gain: -inf\n"
     ]
    },
    {
     "name": "stdout",
     "output_type": "stream",
     "text": [
      "[LightGBM] [Warning] No further splits with positive gain, best gain: -inf\n"
     ]
    },
    {
     "name": "stdout",
     "output_type": "stream",
     "text": [
      "[LightGBM] [Warning] No further splits with positive gain, best gain: -inf\n"
     ]
    },
    {
     "name": "stdout",
     "output_type": "stream",
     "text": [
      "[LightGBM] [Warning] No further splits with positive gain, best gain: -inf\n"
     ]
    },
    {
     "name": "stdout",
     "output_type": "stream",
     "text": [
      "[LightGBM] [Warning] No further splits with positive gain, best gain: -inf\n"
     ]
    },
    {
     "name": "stdout",
     "output_type": "stream",
     "text": [
      "[LightGBM] [Warning] No further splits with positive gain, best gain: -inf\n"
     ]
    },
    {
     "name": "stdout",
     "output_type": "stream",
     "text": [
      "[LightGBM] [Warning] No further splits with positive gain, best gain: -inf\n",
      "[LightGBM] [Warning] No further splits with positive gain, best gain: -inf\n"
     ]
    },
    {
     "name": "stdout",
     "output_type": "stream",
     "text": [
      "[LightGBM] [Warning] No further splits with positive gain, best gain: -inf\n",
      "[LightGBM] [Warning] No further splits with positive gain, best gain: -inf\n"
     ]
    },
    {
     "name": "stdout",
     "output_type": "stream",
     "text": [
      "[LightGBM] [Warning] No further splits with positive gain, best gain: -inf\n"
     ]
    },
    {
     "name": "stdout",
     "output_type": "stream",
     "text": [
      "[LightGBM] [Warning] No further splits with positive gain, best gain: -inf\n"
     ]
    },
    {
     "name": "stdout",
     "output_type": "stream",
     "text": [
      "✔ LightGBM done in 130.1s — best=0.6907 @ {'n_estimators': 200, 'max_depth': 5, 'learning_rate': 0.1}\n",
      "time: 19min 23s (started: 2025-05-07 19:18:20 +00:00)\n"
     ]
    }
   ],
   "source": [
    "# Cell 7 – Fast tuning on 75% data (RandomizedSearchCV / GridSearchCV)\n",
    "\n",
    "from datetime import datetime\n",
    "from joblib import parallel_backend\n",
    "\n",
    "def tune_fast(model, params, X, y, name, max_iter=3, frac=0.3):\n",
    "    print(f\"\\n▶ Tuning {name} at {datetime.now():%H:%M:%S}\")\n",
    "    start = datetime.now()\n",
    "\n",
    "    # Subsample only for RF to speed up\n",
    "    if isinstance(model, RandomForestClassifier):\n",
    "        n = int(len(X)*frac)\n",
    "        idx = np.random.RandomState(42).choice(len(X), size=n, replace=False)\n",
    "        Xt, yt = X.iloc[idx], y.iloc[idx]\n",
    "    else:\n",
    "        Xt, yt = X, y\n",
    "\n",
    "    total = len(list(ParameterGrid(params)))\n",
    "    if total <= max_iter:\n",
    "        search = GridSearchCV(model, params, cv=tscv,\n",
    "                              scoring=\"accuracy\", n_jobs=1, verbose=2)\n",
    "    else:\n",
    "        search = RandomizedSearchCV(model, params, n_iter=max_iter,\n",
    "                                    cv=tscv, scoring=\"accuracy\",\n",
    "                                    n_jobs=1, random_state=42, verbose=2)\n",
    "\n",
    "    # Use threading backend to avoid multiprocessing tracker errors\n",
    "    with parallel_backend(\"threading\"):\n",
    "        search.fit(Xt, yt)\n",
    "\n",
    "    elapsed = (datetime.now()-start).total_seconds()\n",
    "    print(f\"✔ {name} done in {elapsed:.1f}s — \"\n",
    "          f\"best={search.best_score_:.4f} @ {search.best_params_}\")\n",
    "    return search.best_estimator_\n",
    "\n",
    "best_lr  = tune_fast(lr_clf,  param_lr,  X_train_imp, y_up_train, \"Logistic\")\n",
    "best_rf  = tune_fast(rf_clf,  param_rf,  X_train_imp, y_up_train, \"RandomForest\")\n",
    "best_xgb = tune_fast(xgb_clf, param_xgb, X_train_imp, y_up_train, \"XGBoost\")\n",
    "best_lgb = tune_fast(lgb_clf, param_lgb, X_train_imp, y_up_train, \"LightGBM\")"
   ]
  },
  {
   "cell_type": "markdown",
   "id": "337d19ba-d1ef-49d9-9def-3737198861d2",
   "metadata": {
    "papermill": {
     "duration": 0.007726,
     "end_time": "2025-05-07T19:37:43.808764",
     "exception": false,
     "start_time": "2025-05-07T19:37:43.801038",
     "status": "completed"
    },
    "tags": []
   },
   "source": [
    "### 8. Build & Train Prefitted Stacking\n",
    "\n",
    "- Stack the four tuned CPU/GPU-safe base models.  \n",
    "- Use a `LogisticRegression` meta-learner.  \n",
    "- `cv=\"prefit\"` since base models are already trained."
   ]
  },
  {
   "cell_type": "code",
   "execution_count": 9,
   "id": "8d0182b4-f5df-4988-82eb-35ca2f1a9b79",
   "metadata": {
    "execution": {
     "iopub.execute_input": "2025-05-07T19:37:43.825288Z",
     "iopub.status.busy": "2025-05-07T19:37:43.824979Z",
     "iopub.status.idle": "2025-05-07T19:38:13.323113Z",
     "shell.execute_reply": "2025-05-07T19:38:13.322469Z"
    },
    "papermill": {
     "duration": 29.507647,
     "end_time": "2025-05-07T19:38:13.324315",
     "exception": false,
     "start_time": "2025-05-07T19:37:43.816668",
     "status": "completed"
    },
    "scrolled": true,
    "tags": []
   },
   "outputs": [
    {
     "name": "stdout",
     "output_type": "stream",
     "text": [
      "[19:37:43] Building stacking ensemble\n"
     ]
    },
    {
     "name": "stdout",
     "output_type": "stream",
     "text": [
      "✅ Stacking complete\n",
      "time: 29.5 s (started: 2025-05-07 19:37:43 +00:00)\n"
     ]
    }
   ],
   "source": [
    "# Cell 8 – Prefit stacking ensemble\n",
    "\n",
    "from datetime import datetime\n",
    "\n",
    "print(f\"[{datetime.now():%H:%M:%S}] Building stacking ensemble\")\n",
    "stack_clf = StackingClassifier(\n",
    "    estimators=[(\"lr\",best_lr),(\"rf\",best_rf),\n",
    "                (\"xgb\",best_xgb),(\"lgb\",best_lgb)],\n",
    "    final_estimator=LogisticRegression(max_iter=2000),\n",
    "    cv=\"prefit\",\n",
    "    n_jobs=1\n",
    ")\n",
    "stack_clf.fit(X_train_imp, y_up_train)\n",
    "print(\"✅ Stacking complete\")"
   ]
  },
  {
   "cell_type": "markdown",
   "id": "cd207003-5086-4ff5-af1d-e5fe4402073b",
   "metadata": {
    "papermill": {
     "duration": 0.011987,
     "end_time": "2025-05-07T19:38:13.348494",
     "exception": false,
     "start_time": "2025-05-07T19:38:13.336507",
     "status": "completed"
    },
    "tags": []
   },
   "source": [
    "### 9. Evaluate on Test Set\n",
    "\n",
    "- For each model, compute accuracy, print a classification report, and show a confusion matrix heatmap."
   ]
  },
  {
   "cell_type": "code",
   "execution_count": 10,
   "id": "8dbeac9b-78ef-484f-8a3d-098055bcd1a4",
   "metadata": {
    "execution": {
     "iopub.execute_input": "2025-05-07T19:38:13.373692Z",
     "iopub.status.busy": "2025-05-07T19:38:13.373474Z",
     "iopub.status.idle": "2025-05-07T19:38:32.473917Z",
     "shell.execute_reply": "2025-05-07T19:38:32.473246Z"
    },
    "papermill": {
     "duration": 19.113757,
     "end_time": "2025-05-07T19:38:32.474833",
     "exception": false,
     "start_time": "2025-05-07T19:38:13.361076",
     "status": "completed"
    },
    "scrolled": true,
    "tags": []
   },
   "outputs": [
    {
     "name": "stdout",
     "output_type": "stream",
     "text": [
      "\n",
      "► Logistic Accuracy: 0.4980\n"
     ]
    },
    {
     "name": "stdout",
     "output_type": "stream",
     "text": [
      "              precision    recall  f1-score   support\n",
      "\n",
      "           0       0.50      0.19      0.27    554087\n",
      "           1       0.50      0.82      0.62    545769\n",
      "\n",
      "    accuracy                           0.50   1099856\n",
      "   macro avg       0.50      0.50      0.44   1099856\n",
      "weighted avg       0.50      0.50      0.44   1099856\n",
      "\n"
     ]
    },
    {
     "data": {
      "image/png": "[encoded data removed]",
      "text/plain": [
       "<Figure size 800x500 with 2 Axes>"
      ]
     },
     "metadata": {},
     "output_type": "display_data"
    },
    {
     "name": "stdout",
     "output_type": "stream",
     "text": [
      "\n",
      "► RandomForest Accuracy: 0.7264\n",
      "              precision    recall  f1-score   support\n",
      "\n",
      "           0       0.70      0.81      0.75    554087\n",
      "           1       0.77      0.64      0.70    545769\n",
      "\n",
      "    accuracy                           0.73   1099856\n",
      "   macro avg       0.73      0.73      0.72   1099856\n",
      "weighted avg       0.73      0.73      0.72   1099856\n",
      "\n"
     ]
    },
    {
     "data": {
      "image/png": "[encoded data removed]",
      "text/plain": [
       "<Figure size 800x500 with 2 Axes>"
      ]
     },
     "metadata": {},
     "output_type": "display_data"
    },
    {
     "name": "stdout",
     "output_type": "stream",
     "text": [
      "\n",
      "► XGBoost Accuracy: 0.7209\n",
      "              precision    recall  f1-score   support\n",
      "\n",
      "           0       0.68      0.84      0.75    554087\n",
      "           1       0.78      0.60      0.68    545769\n",
      "\n",
      "    accuracy                           0.72   1099856\n",
      "   macro avg       0.73      0.72      0.72   1099856\n",
      "weighted avg       0.73      0.72      0.72   1099856\n",
      "\n"
     ]
    },
    {
     "data": {
      "image/png": "[encoded data removed]",
      "text/plain": [
       "<Figure size 800x500 with 2 Axes>"
      ]
     },
     "metadata": {},
     "output_type": "display_data"
    },
    {
     "name": "stdout",
     "output_type": "stream",
     "text": [
      "\n",
      "► LightGBM Accuracy: 0.7175\n",
      "              precision    recall  f1-score   support\n",
      "\n",
      "           0       0.68      0.85      0.75    554087\n",
      "           1       0.79      0.59      0.67    545769\n",
      "\n",
      "    accuracy                           0.72   1099856\n",
      "   macro avg       0.73      0.72      0.71   1099856\n",
      "weighted avg       0.73      0.72      0.71   1099856\n",
      "\n"
     ]
    },
    {
     "data": {
      "image/png": "[encoded data removed]",
      "text/plain": [
       "<Figure size 800x500 with 2 Axes>"
      ]
     },
     "metadata": {},
     "output_type": "display_data"
    },
    {
     "name": "stdout",
     "output_type": "stream",
     "text": [
      "\n",
      "► Stacking Accuracy: 0.7169\n",
      "              precision    recall  f1-score   support\n",
      "\n",
      "           0       0.68      0.84      0.75    554087\n",
      "           1       0.79      0.59      0.67    545769\n",
      "\n",
      "    accuracy                           0.72   1099856\n",
      "   macro avg       0.73      0.72      0.71   1099856\n",
      "weighted avg       0.73      0.72      0.71   1099856\n",
      "\n"
     ]
    },
    {
     "data": {
      "image/png": "[encoded data removed]",
      "text/plain": [
       "<Figure size 800x500 with 2 Axes>"
      ]
     },
     "metadata": {},
     "output_type": "display_data"
    },
    {
     "name": "stdout",
     "output_type": "stream",
     "text": [
      "time: 19.1 s (started: 2025-05-07 19:38:13 +00:00)\n"
     ]
    }
   ],
   "source": [
    "# Cell 9 – Classification metrics on the 25% hold-out\n",
    "\n",
    "for name, mdl in [\n",
    "    (\"Logistic\", best_lr),\n",
    "    (\"RandomForest\", best_rf),\n",
    "    (\"XGBoost\", best_xgb),\n",
    "    (\"LightGBM\", best_lgb),\n",
    "    (\"Stacking\", stack_clf)\n",
    "]:\n",
    "    y_pred = mdl.predict(X_test_imp)\n",
    "    acc    = accuracy_score(y_up_test, y_pred)\n",
    "    print(f\"\\n► {name} Accuracy: {acc:.4f}\")\n",
    "    print(classification_report(y_up_test, y_pred))\n",
    "    sns.heatmap(confusion_matrix(y_up_test, y_pred), annot=True, fmt=\"d\")\n",
    "    plt.title(name)\n",
    "    plt.show()"
   ]
  },
  {
   "cell_type": "markdown",
   "id": "1df65d9c",
   "metadata": {
    "papermill": {
     "duration": 0.009173,
     "end_time": "2025-05-07T19:38:32.493857",
     "exception": false,
     "start_time": "2025-05-07T19:38:32.484684",
     "status": "completed"
    },
    "tags": []
   },
   "source": [
    "### 10. ROC Curves & AUC for All Classifiers\n",
    "\n",
    "Next, we’ll compute the ROC curve and the Area Under Curve (AUC)  \n",
    "for each of our classifiers on the test set, so we can compare their  \n",
    "true-positive vs. false-positive trade-offs."
   ]
  },
  {
   "cell_type": "code",
   "execution_count": 11,
   "id": "869721fa",
   "metadata": {
    "execution": {
     "iopub.execute_input": "2025-05-07T19:38:32.513313Z",
     "iopub.status.busy": "2025-05-07T19:38:32.513060Z",
     "iopub.status.idle": "2025-05-07T19:38:51.396230Z",
     "shell.execute_reply": "2025-05-07T19:38:51.395583Z"
    },
    "papermill": {
     "duration": 18.893986,
     "end_time": "2025-05-07T19:38:51.397212",
     "exception": false,
     "start_time": "2025-05-07T19:38:32.503226",
     "status": "completed"
    },
    "tags": []
   },
   "outputs": [
    {
     "data": {
      "image/png": "[encoded data removed]",
      "text/plain": [
       "<Figure size 800x600 with 1 Axes>"
      ]
     },
     "metadata": {},
     "output_type": "display_data"
    },
    {
     "name": "stdout",
     "output_type": "stream",
     "text": [
      "time: 18.9 s (started: 2025-05-07 19:38:32 +00:00)\n"
     ]
    }
   ],
   "source": [
    "from sklearn.metrics import roc_curve, auc\n",
    "\n",
    "plt.figure(figsize=(8,6))\n",
    "\n",
    "for name, mdl in [\n",
    "    (\"Logistic\", best_lr),\n",
    "    (\"RandomForest\", best_rf),\n",
    "    (\"XGBoost\", best_xgb),\n",
    "    (\"LightGBM\", best_lgb),\n",
    "    (\"Stacking\", stack_clf)\n",
    "]:\n",
    "    probas = mdl.predict_proba(X_test_imp)[:,1]\n",
    "    fpr, tpr, _ = roc_curve(y_up_test, probas)\n",
    "    roc_auc = auc(fpr, tpr)\n",
    "    plt.plot(fpr, tpr, label=f\"{name} (AUC = {roc_auc:.3f})\")\n",
    "\n",
    "plt.plot([0,1], [0,1], \"k--\", label=\"Random chance\")  # diagonal\n",
    "plt.xlabel(\"False Positive Rate\")\n",
    "plt.ylabel(\"True Positive Rate\")\n",
    "plt.title(\"ROC Curves\")\n",
    "plt.legend(loc=\"lower right\")\n",
    "plt.show()"
   ]
  },
  {
   "cell_type": "markdown",
   "id": "ace6d277-f64f-40b8-9ccd-f9157f59b895",
   "metadata": {
    "papermill": {
     "duration": 0.009608,
     "end_time": "2025-05-07T19:38:51.417184",
     "exception": false,
     "start_time": "2025-05-07T19:38:51.407576",
     "status": "completed"
    },
    "tags": []
   },
   "source": [
    "### 11. Precision–Recall Threshold Optimization\n",
    "\n",
    "- Compute the precision–recall curve on the stacking model’s probabilities.  \n",
    "- Pick the threshold that maximizes F₁, then re-evaluate at that threshold."
   ]
  },
  {
   "cell_type": "code",
   "execution_count": 12,
   "id": "891006c3-7ad2-4a30-82e1-92468cadbaa4",
   "metadata": {
    "execution": {
     "iopub.execute_input": "2025-05-07T19:38:51.437255Z",
     "iopub.status.busy": "2025-05-07T19:38:51.437048Z",
     "iopub.status.idle": "2025-05-07T19:39:00.636699Z",
     "shell.execute_reply": "2025-05-07T19:39:00.636113Z"
    },
    "papermill": {
     "duration": 9.210655,
     "end_time": "2025-05-07T19:39:00.637588",
     "exception": false,
     "start_time": "2025-05-07T19:38:51.426933",
     "status": "completed"
    },
    "scrolled": true,
    "tags": []
   },
   "outputs": [
    {
     "name": "stdout",
     "output_type": "stream",
     "text": [
      "Optimal threshold: 0.220\n",
      "Stack@opt Acc: 0.7146544638570868\n",
      "              precision    recall  f1-score   support\n",
      "\n",
      "           0       0.79      0.59      0.67    554087\n",
      "           1       0.67      0.84      0.75    545769\n",
      "\n",
      "    accuracy                           0.71   1099856\n",
      "   macro avg       0.73      0.72      0.71   1099856\n",
      "weighted avg       0.73      0.71      0.71   1099856\n",
      "\n",
      "time: 9.2 s (started: 2025-05-07 19:38:51 +00:00)\n"
     ]
    }
   ],
   "source": [
    "# Cell 11 – PR‐curve threshold tuning for stacker\n",
    "\n",
    "probs = stack_clf.predict_proba(X_test_imp)[:,1]\n",
    "prec, rec, thr = precision_recall_curve(y_up_test, probs)\n",
    "f1 = 2*prec*rec/(prec+rec)\n",
    "opt_thresh = thr[np.nanargmax(f1)]\n",
    "print(f\"Optimal threshold: {opt_thresh:.3f}\")\n",
    "\n",
    "y_opt = (probs >= opt_thresh).astype(int)\n",
    "print(\"Stack@opt Acc:\", accuracy_score(y_up_test, y_opt))\n",
    "print(classification_report(y_up_test, y_opt))"
   ]
  },
  {
   "cell_type": "markdown",
   "id": "f50fa19f",
   "metadata": {
    "papermill": {
     "duration": 0.009693,
     "end_time": "2025-05-07T19:39:00.657447",
     "exception": false,
     "start_time": "2025-05-07T19:39:00.647754",
     "status": "completed"
    },
    "tags": []
   },
   "source": [
    "### 12. Define & (Optionally) Tune Regressors\n",
    "\n",
    "- We’ll predict tomorrow’s high/low with RF/LGBM/XGB regressors.  \n",
    "- Same `USE_GPU` guard ensures no OpenCL errors in CI."
   ]
  },
  {
   "cell_type": "code",
   "execution_count": 13,
   "id": "bfa5e8b7",
   "metadata": {
    "execution": {
     "iopub.execute_input": "2025-05-07T19:39:00.678334Z",
     "iopub.status.busy": "2025-05-07T19:39:00.677806Z",
     "iopub.status.idle": "2025-05-07T20:57:12.677557Z",
     "shell.execute_reply": "2025-05-07T20:57:12.676942Z"
    },
    "papermill": {
     "duration": 4692.01118,
     "end_time": "2025-05-07T20:57:12.678487",
     "exception": false,
     "start_time": "2025-05-07T19:39:00.667307",
     "status": "completed"
    },
    "tags": []
   },
   "outputs": [
    {
     "name": "stdout",
     "output_type": "stream",
     "text": [
      "\n",
      "▶ Training RF High\n"
     ]
    },
    {
     "name": "stdout",
     "output_type": "stream",
     "text": [
      "✔ RF High done.\n",
      "\n",
      "▶ Training LGB High\n"
     ]
    },
    {
     "name": "stdout",
     "output_type": "stream",
     "text": [
      "✔ LGB High done.\n",
      "\n",
      "▶ Training XGB High\n"
     ]
    },
    {
     "name": "stdout",
     "output_type": "stream",
     "text": [
      "✔ XGB High done.\n",
      "\n",
      "▶ Training RF Low\n"
     ]
    },
    {
     "name": "stdout",
     "output_type": "stream",
     "text": [
      "✔ RF Low done.\n",
      "\n",
      "▶ Training LGB Low\n"
     ]
    },
    {
     "name": "stdout",
     "output_type": "stream",
     "text": [
      "✔ LGB Low done.\n",
      "\n",
      "▶ Training XGB Low\n"
     ]
    },
    {
     "name": "stdout",
     "output_type": "stream",
     "text": [
      "✔ XGB Low done.\n",
      "time: 1h 18min 11s (started: 2025-05-07 19:39:00 +00:00)\n"
     ]
    }
   ],
   "source": [
    "# Cell 12 – Optional: Tune & Train Regressors for High/Low Price Prediction (fast, noise‐free)\n",
    "\n",
    "from sklearn.feature_selection import VarianceThreshold\n",
    "from sklearn.ensemble          import RandomForestRegressor\n",
    "from lightgbm                  import LGBMRegressor\n",
    "import xgboost                 as xgb\n",
    "\n",
    "# 1) Subset training data, dropping NaNs in each target\n",
    "mask_h = ~y_high_train.isna()\n",
    "mask_l = ~y_low_train.isna()\n",
    "Xh, yh = X_train_imp.loc[mask_h], y_high_train.loc[mask_h]\n",
    "Xl, yl = X_train_imp.loc[mask_l], y_low_train.loc[mask_l]\n",
    "\n",
    "# 2) Remove zero‐variance features\n",
    "vt = VarianceThreshold(threshold=0.0)\n",
    "vt.fit(X_train_imp)\n",
    "keep_cols = [c for c, keep in zip(feature_cols, vt.get_support()) if keep]\n",
    "Xh = Xh[keep_cols]\n",
    "Xl = Xl[keep_cols]\n",
    "\n",
    "# 3) Define regressors (CPU‐only, verbose silenced)\n",
    "rf_regr = RandomForestRegressor(n_estimators=100, max_depth=7,\n",
    "                                n_jobs=1, random_state=42)\n",
    "\n",
    "lgb_regr = LGBMRegressor(n_estimators=100,\n",
    "                         max_depth=7,\n",
    "                         min_child_samples=20,\n",
    "                         learning_rate=0.05,\n",
    "                         random_state=42,\n",
    "                         n_jobs=1,\n",
    "                         verbose=-1)   # silence “no further splits” warnings\n",
    "\n",
    "xgb_regr = xgb.XGBRegressor(tree_method=\"hist\",\n",
    "                           objective=\"reg:squarederror\",\n",
    "                           eval_metric=\"rmse\",\n",
    "                           n_estimators=100,\n",
    "                           max_depth=7,\n",
    "                           learning_rate=0.05,\n",
    "                           random_state=42,\n",
    "                           n_jobs=1)\n",
    "\n",
    "# 4) Train each “grid” (here only one set each) directly, no CV\n",
    "best_regr = {}\n",
    "for name, (mdl, Xtr, ytr) in [\n",
    "    (\"RF High\",  (rf_regr,  Xh, yh)),\n",
    "    (\"LGB High\", (lgb_regr, Xh, yh)),\n",
    "    (\"XGB High\", (xgb_regr, Xh, yh)),\n",
    "    (\"RF Low\",   (rf_regr,  Xl, yl)),\n",
    "    (\"LGB Low\",  (lgb_regr, Xl, yl)),\n",
    "    (\"XGB Low\",  (xgb_regr, Xl, yl)),\n",
    "]:\n",
    "    print(f\"\\n▶ Training {name}\")\n",
    "    mdl.fit(Xtr, ytr)\n",
    "    best_regr[name] = mdl\n",
    "    print(f\"✔ {name} done.\")"
   ]
  },
  {
   "cell_type": "markdown",
   "id": "4e6ad731",
   "metadata": {
    "papermill": {
     "duration": 0.009896,
     "end_time": "2025-05-07T20:57:12.698831",
     "exception": false,
     "start_time": "2025-05-07T20:57:12.688935",
     "status": "completed"
    },
    "tags": []
   },
   "source": [
    "### 13. Visualize Regressor Performance\n",
    "\n",
    "- Plot predicted vs. actual tomorrow’s high/low for each tuned regressor.  \n",
    "- Compute RMSE and overlay a 1:1 line."
   ]
  },
  {
   "cell_type": "code",
   "execution_count": 14,
   "id": "9ac51910",
   "metadata": {
    "execution": {
     "iopub.execute_input": "2025-05-07T20:57:12.720052Z",
     "iopub.status.busy": "2025-05-07T20:57:12.719682Z",
     "iopub.status.idle": "2025-05-07T20:57:35.173212Z",
     "shell.execute_reply": "2025-05-07T20:57:35.172559Z"
    },
    "papermill": {
     "duration": 22.465264,
     "end_time": "2025-05-07T20:57:35.174174",
     "exception": false,
     "start_time": "2025-05-07T20:57:12.708910",
     "status": "completed"
    },
    "tags": []
   },
   "outputs": [
    {
     "name": "stdout",
     "output_type": "stream",
     "text": [
      "LGB High — RMSE: 38674441.38\n"
     ]
    },
    {
     "data": {
      "image/png": "[encoded data removed]",
      "text/plain": [
       "<Figure size 800x500 with 1 Axes>"
      ]
     },
     "metadata": {},
     "output_type": "display_data"
    },
    {
     "name": "stdout",
     "output_type": "stream",
     "text": [
      "XGB High — RMSE: 177272871.75\n"
     ]
    },
    {
     "data": {
      "image/png": "[encoded data removed]",
      "text/plain": [
       "<Figure size 800x500 with 1 Axes>"
      ]
     },
     "metadata": {},
     "output_type": "display_data"
    },
    {
     "name": "stdout",
     "output_type": "stream",
     "text": [
      "RF High — RMSE: 241411216.37\n"
     ]
    },
    {
     "data": {
      "image/png": "[encoded data removed]",
      "text/plain": [
       "<Figure size 800x500 with 1 Axes>"
      ]
     },
     "metadata": {},
     "output_type": "display_data"
    },
    {
     "name": "stdout",
     "output_type": "stream",
     "text": [
      "LGB Low — RMSE: 38674427.41\n"
     ]
    },
    {
     "data": {
      "image/png": "[encoded data removed]",
      "text/plain": [
       "<Figure size 800x500 with 1 Axes>"
      ]
     },
     "metadata": {},
     "output_type": "display_data"
    },
    {
     "name": "stdout",
     "output_type": "stream",
     "text": [
      "XGB Low — RMSE: 177272900.73\n"
     ]
    },
    {
     "data": {
      "image/png": "[encoded data removed]",
      "text/plain": [
       "<Figure size 800x500 with 1 Axes>"
      ]
     },
     "metadata": {},
     "output_type": "display_data"
    },
    {
     "name": "stdout",
     "output_type": "stream",
     "text": [
      "RF Low — RMSE: 241411243.88\n"
     ]
    },
    {
     "data": {
      "image/png": "[encoded data removed]",
      "text/plain": [
       "<Figure size 800x500 with 1 Axes>"
      ]
     },
     "metadata": {},
     "output_type": "display_data"
    },
    {
     "name": "stdout",
     "output_type": "stream",
     "text": [
      "time: 22.4 s (started: 2025-05-07 20:57:12 +00:00)\n"
     ]
    }
   ],
   "source": [
    "# Cell 13 – RMSE scatter plots\n",
    "\n",
    "def eval_reg(name, model, X_te, y_te):\n",
    "    yp   = model.predict(X_te)\n",
    "    rmse = np.sqrt(mean_squared_error(y_te, yp))\n",
    "    print(f\"{name} — RMSE: {rmse:.2f}\")\n",
    "    plt.scatter(y_te, yp, alpha=0.3)\n",
    "    plt.plot([y_te.min(),y_te.max()],[y_te.min(),y_te.max()],'r--')\n",
    "    plt.title(name)\n",
    "    plt.show()\n",
    "\n",
    "for nm in [\"LGB High\",\"XGB High\",\"RF High\",\"LGB Low\",\"XGB Low\",\"RF Low\"]:\n",
    "    eval_reg(nm, best_regr[nm], X_test_imp[keep_cols], \n",
    "             {\"LGB High\":y_high_test,\n",
    "              \"XGB High\":y_high_test,\n",
    "              \"RF High\": y_high_test,\n",
    "              \"LGB Low\": y_low_test,\n",
    "              \"XGB Low\": y_low_test,\n",
    "              \"RF Low\":  y_low_test}[nm])\n"
   ]
  },
  {
   "cell_type": "markdown",
   "id": "c391853e",
   "metadata": {
    "papermill": {
     "duration": 0.0119,
     "end_time": "2025-05-07T20:57:35.198533",
     "exception": false,
     "start_time": "2025-05-07T20:57:35.186633",
     "status": "completed"
    },
    "tags": []
   },
   "source": [
    "### 14. Full-Data CV, Select & Retrain, Save\n",
    "\n",
    "1. Re-load the full dataset.  \n",
    "2. Time-series CV on **all** data to pick the overall best model.  \n",
    "3. Retrain that model on 100% of the data.  \n",
    "4. Save to `src/models/final_{model}.pkl`."
   ]
  },
  {
   "cell_type": "code",
   "execution_count": 15,
   "id": "847c3033",
   "metadata": {
    "execution": {
     "iopub.execute_input": "2025-05-07T20:57:35.223222Z",
     "iopub.status.busy": "2025-05-07T20:57:35.223029Z",
     "iopub.status.idle": "2025-05-07T21:49:12.902323Z",
     "shell.execute_reply": "2025-05-07T21:49:12.901752Z"
    },
    "papermill": {
     "duration": 3097.704231,
     "end_time": "2025-05-07T21:49:12.914735",
     "exception": false,
     "start_time": "2025-05-07T20:57:35.210504",
     "status": "completed"
    },
    "tags": []
   },
   "outputs": [
    {
     "name": "stdout",
     "output_type": "stream",
     "text": [
      "Logistic full‐CV: 0.5039 ± 0.0068\n"
     ]
    },
    {
     "name": "stdout",
     "output_type": "stream",
     "text": [
      "RandomForest full‐CV: 0.6976 ± 0.0219\n"
     ]
    },
    {
     "name": "stdout",
     "output_type": "stream",
     "text": [
      "XGBoost full‐CV: 0.6917 ± 0.0222\n"
     ]
    },
    {
     "name": "stdout",
     "output_type": "stream",
     "text": [
      "LightGBM full‐CV: 0.6910 ± 0.0193\n",
      "\n",
      "▶ Best on full‐CV: RandomForest\n"
     ]
    },
    {
     "name": "stdout",
     "output_type": "stream",
     "text": [
      "Saved final_randomforest.pkl to src/models/\n",
      "time: 51min 37s (started: 2025-05-07 20:57:35 +00:00)\n"
     ]
    }
   ],
   "source": [
    "# Cell 14 – Full‐Data CV (base models only), Select & Retrain Best Model, Then Save\n",
    "\n",
    "# 1) Load full processed data\n",
    "df_full = pd.read_csv(\n",
    "    os.path.join(DATA_PROCESSED, \"historical_proc.csv\"),\n",
    "    parse_dates=[\"date\"]\n",
    ")\n",
    "df_full.sort_values(\"date\", inplace=True)\n",
    "\n",
    "# 1b) Re‐create next‐day targets on the full data\n",
    "df_full[\"close_next\"] = df_full[\"close\"].shift(-1)\n",
    "df_full[\"high_next\"]  = df_full[\"high\"].shift(-1)\n",
    "df_full[\"low_next\"]   = df_full[\"low\"].shift(-1)\n",
    "df_full[\"target_up\"]   = (df_full[\"close_next\"] > df_full[\"close\"]).astype(int)\n",
    "df_full[\"target_high\"] = df_full[\"high_next\"]\n",
    "df_full[\"target_low\"]  = df_full[\"low_next\"]\n",
    "df_full.dropna(subset=[\"target_up\",\"target_high\",\"target_low\"], inplace=True)\n",
    "\n",
    "# 2) Prepare features & labels\n",
    "Xf = pd.DataFrame(\n",
    "    imputer.transform(df_full[feature_cols]),\n",
    "    columns=feature_cols\n",
    ")\n",
    "yf = df_full[\"target_up\"]\n",
    "\n",
    "# 3) Full‐data time‐series CV (base models only)\n",
    "tscv_full = TimeSeriesSplit(n_splits=3)\n",
    "candidates = {\n",
    "    \"Logistic\":     best_lr,\n",
    "    \"RandomForest\": best_rf,\n",
    "    \"XGBoost\":      best_xgb,\n",
    "    \"LightGBM\":     best_lgb\n",
    "    # Note: stacking ensemble omitted here because it was built with cv=\"prefit\"\n",
    "}\n",
    "\n",
    "scores = {}\n",
    "for name, model in candidates.items():\n",
    "    sc = cross_val_score(\n",
    "        model, Xf, yf,\n",
    "        cv=tscv_full,\n",
    "        scoring=\"accuracy\",\n",
    "        n_jobs=1\n",
    "    )\n",
    "    scores[name] = sc.mean()\n",
    "    print(f\"{name} full‐CV: {sc.mean():.4f} ± {sc.std():.4f}\")\n",
    "\n",
    "# 4) Select best and retrain on all data\n",
    "best_name   = max(scores, key=scores.get)\n",
    "final_model = candidates[best_name]\n",
    "print(f\"\\n▶ Best on full‐CV: {best_name}\")\n",
    "final_model.fit(Xf, yf)\n",
    "\n",
    "# 5) Save the final model artifact\n",
    "os.makedirs(MODEL_DIR, exist_ok=True)\n",
    "out_path = os.path.join(MODEL_DIR, f\"final_{best_name.lower()}.pkl\")\n",
    "joblib.dump(final_model, out_path)\n",
    "print(f\"Saved {os.path.basename(out_path)} to {MODEL_DIR}/\")"
   ]
  },
  {
   "cell_type": "markdown",
   "id": "b9b00be8",
   "metadata": {
    "papermill": {
     "duration": 0.012406,
     "end_time": "2025-05-07T21:49:12.939501",
     "exception": false,
     "start_time": "2025-05-07T21:49:12.927095",
     "status": "completed"
    },
    "tags": []
   },
   "source": [
    "## 15. Manual Prediction Testing\n",
    "\n",
    "Once we’ve selected and saved our **final model** (e.g. `final_lightgbm.pkl`), it’s handy to be able to feed it *one* manually-specified input and see what it predicts:\n",
    "\n",
    "1. **Load** the trained model and the `SimpleImputer` instance.  \n",
    "2. **Build** a single-row `pd.DataFrame` whose columns exactly match `feature_cols`.  \n",
    "3. **Impute** any missing values (just in case).  \n",
    "4. **Call** `model.predict()` (and `model.predict_proba()` if you want probabilities).  \n",
    "\n",
    "Below is a worked example that:\n",
    "- Grabs the very first row of your _test_ set as a template  \n",
    "- Shows how to swap in your own values  \n",
    "- Prints out the predicted class (“up” vs. “down”) and the probability"
   ]
  },
  {
   "cell_type": "code",
   "execution_count": 16,
   "id": "16c068d9",
   "metadata": {
    "execution": {
     "iopub.execute_input": "2025-05-07T21:49:12.964662Z",
     "iopub.status.busy": "2025-05-07T21:49:12.964470Z",
     "iopub.status.idle": "2025-05-07T21:49:13.024925Z",
     "shell.execute_reply": "2025-05-07T21:49:13.024344Z"
    },
    "papermill": {
     "duration": 0.074167,
     "end_time": "2025-05-07T21:49:13.025939",
     "exception": false,
     "start_time": "2025-05-07T21:49:12.951772",
     "status": "completed"
    },
    "tags": []
   },
   "outputs": [
    {
     "name": "stdout",
     "output_type": "stream",
     "text": [
      "Loaded model from: src/models/final_randomforest.pkl\n",
      "Template sample (first test row):\n"
     ]
    },
    {
     "data": {
      "text/html": [
       "<div>\n",
       "<style scoped>\n",
       "    .dataframe tbody tr th:only-of-type {\n",
       "        vertical-align: middle;\n",
       "    }\n",
       "\n",
       "    .dataframe tbody tr th {\n",
       "        vertical-align: top;\n",
       "    }\n",
       "\n",
       "    .dataframe thead th {\n",
       "        text-align: right;\n",
       "    }\n",
       "</style>\n",
       "<table border=\"1\" class=\"dataframe\">\n",
       "  <thead>\n",
       "    <tr style=\"text-align: right;\">\n",
       "      <th></th>\n",
       "      <th>year</th>\n",
       "      <th>month</th>\n",
       "      <th>day</th>\n",
       "      <th>weekday</th>\n",
       "      <th>price_std</th>\n",
       "      <th>market_cap_std</th>\n",
       "      <th>volume_24h_std</th>\n",
       "      <th>percent_change_24h_std</th>\n",
       "      <th>price_mm</th>\n",
       "      <th>market_cap_mm</th>\n",
       "      <th>volume_24h_mm</th>\n",
       "      <th>percent_change_24h_mm</th>\n",
       "      <th>PC1</th>\n",
       "      <th>PC2</th>\n",
       "      <th>PC3</th>\n",
       "      <th>PC4</th>\n",
       "    </tr>\n",
       "  </thead>\n",
       "  <tbody>\n",
       "    <tr>\n",
       "      <th>3337958</th>\n",
       "      <td>2020.0</td>\n",
       "      <td>12.0</td>\n",
       "      <td>8.0</td>\n",
       "      <td>1.0</td>\n",
       "      <td>-0.004116</td>\n",
       "      <td>-0.001334</td>\n",
       "      <td>-0.000703</td>\n",
       "      <td>-0.000696</td>\n",
       "      <td>1.215616e-09</td>\n",
       "      <td>5.643277e-08</td>\n",
       "      <td>1.948127e-10</td>\n",
       "      <td>4.955890e-09</td>\n",
       "      <td>-0.003883</td>\n",
       "      <td>-0.001535</td>\n",
       "      <td>-0.000697</td>\n",
       "      <td>-0.001334</td>\n",
       "    </tr>\n",
       "  </tbody>\n",
       "</table>\n",
       "</div>"
      ],
      "text/plain": [
       "           year  month  day  weekday  price_std  market_cap_std  \\\n",
       "3337958  2020.0   12.0  8.0      1.0  -0.004116       -0.001334   \n",
       "\n",
       "         volume_24h_std  percent_change_24h_std      price_mm  market_cap_mm  \\\n",
       "3337958       -0.000703               -0.000696  1.215616e-09   5.643277e-08   \n",
       "\n",
       "         volume_24h_mm  percent_change_24h_mm       PC1       PC2       PC3  \\\n",
       "3337958   1.948127e-10           4.955890e-09 -0.003883 -0.001535 -0.000697   \n",
       "\n",
       "              PC4  \n",
       "3337958 -0.001334  "
      ]
     },
     "metadata": {},
     "output_type": "display_data"
    },
    {
     "name": "stdout",
     "output_type": "stream",
     "text": [
      "\n",
      "Predicted class (0 = down, 1 = up): 0\n",
      "Predicted probabilities [P(down), P(up)]: [0.87816698 0.12183302]\n",
      "time: 56.6 ms (started: 2025-05-07 21:49:12 +00:00)\n"
     ]
    }
   ],
   "source": [
    "# Cell 15 — Manual test harness for final_model\n",
    "\n",
    "import os\n",
    "import glob\n",
    "import joblib\n",
    "import pandas as pd\n",
    "\n",
    "# 1) Locate and load the “final” model artifact\n",
    "model_paths = glob.glob(os.path.join(MODEL_DIR, \"final_*.pkl\"))\n",
    "if not model_paths:\n",
    "    raise FileNotFoundError(f\"No final_*.pkl found in {MODEL_DIR!r}\")\n",
    "model_path = model_paths[0]\n",
    "model = joblib.load(model_path)\n",
    "print(f\"Loaded model from: {model_path}\")\n",
    "\n",
    "# 2) Grab a template row from the already-imputed test set\n",
    "#    (X_test_imp was created in Cell 5)\n",
    "sample_df = X_test_imp.iloc[[0]].copy()\n",
    "print(\"Template sample (first test row):\")\n",
    "display(sample_df)\n",
    "\n",
    "# 3) [Optional] Modify any feature(s) to experiment:\n",
    "#    e.g. sample_df[\"price_std\"] = 0.5\n",
    "\n",
    "# 4) Re-order and select exactly the same columns we trained on\n",
    "sample_df = sample_df[feature_cols]\n",
    "\n",
    "# 5) Re-impute (in case you manually set values to NaN)\n",
    "#    (imputer was defined in Cell 5)\n",
    "X_input = pd.DataFrame(\n",
    "    imputer.transform(sample_df),\n",
    "    columns=feature_cols,\n",
    "    index=sample_df.index\n",
    ")\n",
    "\n",
    "# 6) Run prediction & probability\n",
    "pred_class = model.predict(X_input)[0]\n",
    "pred_proba = model.predict_proba(X_input)[0]\n",
    "\n",
    "print(f\"\\nPredicted class (0 = down, 1 = up): {pred_class}\")\n",
    "print(f\"Predicted probabilities [P(down), P(up)]: {pred_proba}\")\n"
   ]
  }
 ],
 "metadata": {
  "kernelspec": {
   "display_name": ".venv",
   "language": "python",
   "name": "python3"
  },
  "language_info": {
   "codemirror_mode": {
    "name": "ipython",
    "version": 3
   },
   "file_extension": ".py",
   "mimetype": "text/x-python",
   "name": "python",
   "nbconvert_exporter": "python",
   "pygments_lexer": "ipython3",
   "version": "3.13.3"
  },
  "papermill": {
   "default_parameters": {},
   "duration": 9074.465286,
   "end_time": "2025-05-07T21:49:13.654963",
   "environment_variables": {},
   "exception": null,
   "input_path": "notebooks/3_modeling.ipynb",
   "output_path": "reports/3_modeling_output.ipynb",
   "parameters": {
    "DATA_PROCESSED": "data/processed",
    "MODEL_DIR": "src/models"
   },
   "start_time": "2025-05-07T19:17:59.189677",
   "version": "2.6.0"
  }
 },
 "nbformat": 4,
 "nbformat_minor": 5
}